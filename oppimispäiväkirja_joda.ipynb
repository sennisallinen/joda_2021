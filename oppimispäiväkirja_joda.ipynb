{
 "cells": [
  {
   "cell_type": "markdown",
   "metadata": {},
   "source": [
    "Oppimispäiväkirja\n",
    "\n",
    "Vikko 1\n",
    "\n",
    "En päässyt osallistumaan ensimmäisen luentoviikon opetukseen livenä, mutta katsoin luentotallenteen jälkikäteen. Mielestäni luento ei ollut kovinkaan interaktiivinen, joten en kokenut ainakaan ensimmäisen viikon osalta suurta arvon menetystä, vaikka en päässytkään osallistumaan luennolle. Tästä päästäänkin ensimmäiseenluentojen kehitysehdotukseeni:\n",
    "\n",
    "1) Toivoisin luennoille edes jonkun interaktiivisen osan. Varsinkin näin etänä pelkkää luennointia on välillä todella puuduttavaa kuunneela, vaikka asia sinänsä olisikin mielenkiintoista.\n",
    "\n",
    "Luennolla oli paljon ennestään tuttua asiaa, kuten datatieteen osa-alueet ja datan laadun komponentit. Olin kuullut jo ennen luentoa, että datatiede yhdistää viestinnän, tilastotieteen, ohjelmoinnin ja liiketoiminnan. Koska osa-alueita on monia, on datatiedettä järkevintä toteuttaa tiimeissä, sillä harva hallitsee kaikki osa-alueet täydellisesti. Luennolla keskusteltiin myös Pythonin käyttämisestä datatieteen työvälineenä ja vertailtiin sitä käyttöliittymällisten järjestelmien käyttöön, kuten power BI:hin. Molemmat lähestymistavat olivat minulle tuttuja, mutta en ollut tullut ajatelleeksi näiden vertailua keskenään, sillä mielestäni lähestymistavat vastaavat melko erilaisiin ongelmiin. Luennolla kuitenkin todettiin Pythonin eduiksi toistettavuus, mahdollisuus isompien datamassojen käsittelyyn, ylipäätään enemmän mahdollisuuksia datan käsittelyyn, sekä yhteisön tuki netissä. Tiedostin nämä Pythonin edut jo aikaisemminkin ja Stack Overflown tuki onkin ollut minullekin korvaamatonta useissa aikaisemmissa koulu- ja työprojekteissa.\n",
    "\n",
    "Mielenkiintoisena asiana minulle jäi luennolta mieleen ajatus siitä, kuka todellisuudessa pääsee käsiksi hypetettyihin suuriin datamassoihin. Luennolla mainittiin, että suurin osa datasta on todellisuudessa vain suurten alustatrjoajien saatavilla. Tämä oli mielnkiintoinen näkökulma, sillä datan määrän kasvusta ollaan puhuttu jo ihan riittämiin eri kursseilla, mutta todellisuus on kuitenkin se, ettei kaikilla ole samanlaisia mahdollisuuksia datan hyödyntämiseen.\n",
    "\n",
    "En päässyt osallistumaan myöskään perjantain koodiklinikalle, mutta katsoin siitäkin tulleen tallenteen jälkikäteen. Koodiklinikalla kaikki oli käytännössä uutta asiaa minulle. \n",
    "\n",
    "Viikolla oppimani asiat:\n",
    "\n",
    "1) Tosiasia siitä, ketkä oikeasti pääsevät käsiksi hypetettyihin \"valtaviin datamassoihin\"\n",
    "2) Datasetin avaaminen ja tarkastelu JupyterLab ympäristössä\n",
    "\n",
    "\n",
    "Alla olevat koodiesimerkit on tehty ensimmäisen koodiklinikan esimerkkien pohjalta, omaa koodia ei ole vielä kirjoitettu.\n"
   ]
  },
  {
   "cell_type": "code",
   "execution_count": null,
   "metadata": {},
   "outputs": [],
   "source": [
    "# Declare the libraries that will be used\n",
    "import pandas as pd\n",
    "# Used to plot the results\n",
    "import matplotlib.pyplot as plt\n",
    "from matplotlib import style\n",
    "style.use('ggplot')"
   ]
  },
  {
   "cell_type": "code",
   "execution_count": null,
   "metadata": {},
   "outputs": [],
   "source": [
    "url = 'https://github.com/jodatut/2020/raw/master/koodiesimerkit/SalesJan2009.csv'\n",
    "\n",
    "# Use pandas to import data\n",
    "orig_df = pd.read_csv(url)\n",
    "\n",
    "# To keep original dataframe for referencing\n",
    "df = orig_df.copy()\n",
    "print('List of attributes:', df.columns.values.tolist())"
   ]
  },
  {
   "cell_type": "code",
   "execution_count": null,
   "metadata": {
    "jupyter": {
     "source_hidden": true
    }
   },
   "outputs": [],
   "source": [
    "print(df.head())"
   ]
  },
  {
   "cell_type": "code",
   "execution_count": null,
   "metadata": {
    "jupyter": {
     "source_hidden": true
    }
   },
   "outputs": [],
   "source": [
    "print(df.dtypes)"
   ]
  },
  {
   "cell_type": "code",
   "execution_count": null,
   "metadata": {
    "jupyter": {
     "source_hidden": true
    }
   },
   "outputs": [],
   "source": [
    "df"
   ]
  },
  {
   "cell_type": "code",
   "execution_count": null,
   "metadata": {
    "jupyter": {
     "source_hidden": true
    }
   },
   "outputs": [],
   "source": [
    "# Use general apply function\n",
    "caps = lambda x: x.upper()\n",
    "\n",
    "# def caps(x):\n",
    "#     return x.upper()\n",
    "\n",
    "df['Country'] = df['Country'].apply(caps)\n",
    "\n",
    "def test(x):\n",
    "    if x == \"Product1\":\n",
    "        return \"P1\"\n",
    "    else:\n",
    "        return x\n",
    "\n",
    "df['Product'] = df['Product'].apply(test)"
   ]
  },
  {
   "cell_type": "code",
   "execution_count": null,
   "metadata": {},
   "outputs": [],
   "source": [
    "# New column to calculate logins within a week\n",
    "df['Login_week'] = \"\"\n",
    "\n",
    "def lastweek(x):\n",
    "    date = pd.Timestamp(2009, 2, 2)\n",
    "    date_diff = pd.Timedelta(date-x).days\n",
    "    if date_diff < 7:\n",
    "        return \"Last week\"\n",
    "    else:\n",
    "        return \"Not last week\"\n",
    "    \n",
    "df['Login_week'] = df['Last_Login'].apply(lastweek)"
   ]
  },
  {
   "cell_type": "code",
   "execution_count": null,
   "metadata": {
    "jupyter": {
     "source_hidden": true
    }
   },
   "outputs": [],
   "source": [
    "print(df[ df['Login_week']=='Last week' ])"
   ]
  },
  {
   "cell_type": "markdown",
   "metadata": {},
   "source": [
    "Viikko 2\n",
    "\n",
    "Toisella viikolla osallistuin luennolle livenä. Datan siivoaminen on minulle tuttu termi aikaisemmista opinnoistani. Käytännön tasolla en ole kuitenkaan päässyt kokeilemaan sitä Excelillä tehtävää työtä lukuunottamatta. Onkin mielenkiinotista päästä kokeilemaan tätäkin ohjelmallisesti. Datan laatua on korostettu tämän vuoden aikana melkeinpä jokaisella käymälläni kurssilla, joten siihen liittyvät aiheet eivät olleet minulle uusia. On kuitenkin mielenkiintoista päästä kokeilemaan näitä teoriassa opittuja asioita käytännössä, siitä minulla ei vielä ole kokemusta.\n",
    "\n",
    "Mielestäni luennolla oli mielenkiintoista termien vertailua (liiketoimintatiedon hallinta vs datatiede), mutta oman kokemukseni mukaan termien vertailu ei välttämättä ole mielekästä. Tein itse kandityöni liiketoimintatiedon hallintaan liittyen ja havaitsin tietoa etsiessäni, että termejä (BI, business analytics, data analytics…) käytettiin paljon ristiin eri tutkimuksissa.\n",
    "\n",
    "Datan ostaminen ja rajapintojen käyttäminen olivat minulle tuttuja datan keräämisen keinoja, mutta datan raapiminen ja ryömiminen olivat minulle uusia asioita. Raavinnan eettisyys ja laillisuus olivat mielestäni mielenkiintoisia näkökulmia luennolla. Laillisuus ei toki mielestäni pitäisi olla kovinkaan moniselitteistä toisin kuin eettisyys. \n",
    "\n",
    "Viikon opit\n",
    "1) Ruudun raavinta käsitteenä\n",
    "2) Ryömiminen käsitteenä\n",
    "3) Ruudun raavinta käytännössä alla olevan esimerkin tapaan"
   ]
  },
  {
   "cell_type": "markdown",
   "metadata": {},
   "source": [
    "Viikon koodiesimerkit on tehty koodiklinikan esimerkkien mukaan. Esimerkissä kyätetään Scrapy-ruudunraavintaohjelmaa ja sen avulla tarkastellaan verkkokauppa.com-sivuston erään älykellon arvosteluita."
   ]
  },
  {
   "cell_type": "code",
   "execution_count": 1,
   "metadata": {},
   "outputs": [
    {
     "name": "stdout",
     "output_type": "stream",
     "text": [
      "Requirement already satisfied: Scrapy in ./opt/anaconda3/lib/python3.8/site-packages (2.4.1)\n",
      "Requirement already satisfied: itemloaders>=1.0.1 in ./opt/anaconda3/lib/python3.8/site-packages (from Scrapy) (1.0.4)\n",
      "Requirement already satisfied: itemadapter>=0.1.0 in ./opt/anaconda3/lib/python3.8/site-packages (from Scrapy) (0.2.0)\n",
      "Requirement already satisfied: cssselect>=0.9.1 in ./opt/anaconda3/lib/python3.8/site-packages (from Scrapy) (1.1.0)\n",
      "Requirement already satisfied: pyOpenSSL>=16.2.0 in ./opt/anaconda3/lib/python3.8/site-packages (from Scrapy) (19.1.0)\n",
      "Requirement already satisfied: zope.interface>=4.1.3 in ./opt/anaconda3/lib/python3.8/site-packages (from Scrapy) (5.1.2)\n",
      "Requirement already satisfied: service-identity>=16.0.0 in ./opt/anaconda3/lib/python3.8/site-packages (from Scrapy) (18.1.0)\n",
      "Requirement already satisfied: protego>=0.1.15 in ./opt/anaconda3/lib/python3.8/site-packages (from Scrapy) (0.1.16)\n",
      "Requirement already satisfied: cryptography>=2.0 in ./opt/anaconda3/lib/python3.8/site-packages (from Scrapy) (3.1.1)\n",
      "Requirement already satisfied: queuelib>=1.4.2 in ./opt/anaconda3/lib/python3.8/site-packages (from Scrapy) (1.5.0)\n",
      "Requirement already satisfied: w3lib>=1.17.0 in ./opt/anaconda3/lib/python3.8/site-packages (from Scrapy) (1.22.0)\n",
      "Requirement already satisfied: PyDispatcher>=2.0.5 in ./opt/anaconda3/lib/python3.8/site-packages (from Scrapy) (2.0.5)\n",
      "Requirement already satisfied: lxml>=3.5.0; platform_python_implementation == \"CPython\" in ./opt/anaconda3/lib/python3.8/site-packages (from Scrapy) (4.6.1)\n",
      "Requirement already satisfied: Twisted>=17.9.0 in ./opt/anaconda3/lib/python3.8/site-packages (from Scrapy) (21.2.0)\n",
      "Requirement already satisfied: parsel>=1.5.0 in ./opt/anaconda3/lib/python3.8/site-packages (from Scrapy) (1.6.0)\n",
      "Requirement already satisfied: jmespath>=0.9.5 in ./opt/anaconda3/lib/python3.8/site-packages (from itemloaders>=1.0.1->Scrapy) (0.10.0)\n",
      "Requirement already satisfied: six>=1.5.2 in ./opt/anaconda3/lib/python3.8/site-packages (from pyOpenSSL>=16.2.0->Scrapy) (1.15.0)\n",
      "Requirement already satisfied: setuptools in ./opt/anaconda3/lib/python3.8/site-packages (from zope.interface>=4.1.3->Scrapy) (50.3.1.post20201107)\n",
      "Requirement already satisfied: pyasn1 in ./opt/anaconda3/lib/python3.8/site-packages (from service-identity>=16.0.0->Scrapy) (0.4.8)\n",
      "Requirement already satisfied: attrs>=16.0.0 in ./opt/anaconda3/lib/python3.8/site-packages (from service-identity>=16.0.0->Scrapy) (20.3.0)\n",
      "Requirement already satisfied: pyasn1-modules in ./opt/anaconda3/lib/python3.8/site-packages (from service-identity>=16.0.0->Scrapy) (0.2.8)\n",
      "Requirement already satisfied: cffi!=1.11.3,>=1.8 in ./opt/anaconda3/lib/python3.8/site-packages (from cryptography>=2.0->Scrapy) (1.14.3)\n",
      "Requirement already satisfied: incremental>=16.10.1 in ./opt/anaconda3/lib/python3.8/site-packages (from Twisted>=17.9.0->Scrapy) (21.3.0)\n",
      "Requirement already satisfied: hyperlink>=17.1.1 in ./opt/anaconda3/lib/python3.8/site-packages (from Twisted>=17.9.0->Scrapy) (21.0.0)\n",
      "Requirement already satisfied: constantly>=15.1 in ./opt/anaconda3/lib/python3.8/site-packages (from Twisted>=17.9.0->Scrapy) (15.1.0)\n",
      "Requirement already satisfied: Automat>=0.8.0 in ./opt/anaconda3/lib/python3.8/site-packages (from Twisted>=17.9.0->Scrapy) (20.2.0)\n",
      "Requirement already satisfied: pycparser in ./opt/anaconda3/lib/python3.8/site-packages (from cffi!=1.11.3,>=1.8->cryptography>=2.0->Scrapy) (2.20)\n",
      "Requirement already satisfied: idna>=2.5 in ./opt/anaconda3/lib/python3.8/site-packages (from hyperlink>=17.1.1->Twisted>=17.9.0->Scrapy) (2.10)\n"
     ]
    }
   ],
   "source": [
    "#asennetaan scrapy ruudun raapimista varten\n",
    "!pip install Scrapy"
   ]
  },
  {
   "cell_type": "code",
   "execution_count": 1,
   "metadata": {},
   "outputs": [
    {
     "name": "stdout",
     "output_type": "stream",
     "text": [
      "/Users/senni/verkkokauppa_scraper.py already exists\n"
     ]
    }
   ],
   "source": [
    "!scrapy genspider verkkokauppa_scraper verkkokauppa.com"
   ]
  },
  {
   "cell_type": "code",
   "execution_count": 17,
   "metadata": {},
   "outputs": [],
   "source": [
    "import scrapy\n",
    "\n",
    "class VerkkokauppaScraperSpider(scrapy.Spider):\n",
    "    name = 'verkkokauppa_scraper'\n",
    "    allowed_domains = ['verkkokauppa.com']\n",
    "    # assing a product-review-page url below\n",
    "    start_urls = ['https://www.verkkokauppa.com/fi/product/63728/kksnk/Samsung-Galaxy-Watch-46-mm-hopea/reviews?sort=helpfulness:desc']\n",
    "    \n",
    "    def parse(self, response):\n",
    "        \n",
    "        review_texts = response.css('.review-content-wrapper')\n",
    "        \n",
    "        for i in range(len(review_texts)):\n",
    "            review_texts[i] = \"\".join(review_texts[i].css('::text').extract()).strip()\n",
    "\n",
    "        review_gender = response.css('.author-meta__gender--full')\n",
    "        \n",
    "        for i in range(len(review_gender)):\n",
    "            review_gender[i] = \"\".join(review_gender[i].css('::text').extract()).strip()\n",
    "\n",
    "        for i in range(len(review_texts)):\n",
    "            review = {\n",
    "                'text' : review_texts[i],\n",
    "                'gender': review_gender[i]\n",
    "            }\n",
    "            yield review\n"
   ]
  },
  {
   "cell_type": "code",
   "execution_count": 19,
   "metadata": {},
   "outputs": [
    {
     "name": "stdout",
     "output_type": "stream",
     "text": [
      "2021-03-25 15:26:43 [scrapy.utils.log] INFO: Scrapy 2.4.1 started (bot: scrapybot)\n",
      "2021-03-25 15:26:43 [scrapy.utils.log] INFO: Versions: lxml 4.6.1.0, libxml2 2.9.10, cssselect 1.1.0, parsel 1.6.0, w3lib 1.22.0, Twisted 21.2.0, Python 3.8.5 (default, Sep  4 2020, 02:22:02) - [Clang 10.0.0 ], pyOpenSSL 19.1.0 (OpenSSL 1.1.1h  22 Sep 2020), cryptography 3.1.1, Platform macOS-10.16-x86_64-i386-64bit\n",
      "2021-03-25 15:26:43 [scrapy.utils.log] DEBUG: Using reactor: twisted.internet.selectreactor.SelectReactor\n",
      "2021-03-25 15:26:43 [scrapy.crawler] INFO: Overridden settings:\n",
      "{'SPIDER_LOADER_WARN_ONLY': True}\n",
      "2021-03-25 15:26:43 [scrapy.extensions.telnet] INFO: Telnet Password: a4ede2a9d1c815bf\n",
      "2021-03-25 15:26:43 [scrapy.middleware] INFO: Enabled extensions:\n",
      "['scrapy.extensions.corestats.CoreStats',\n",
      " 'scrapy.extensions.telnet.TelnetConsole',\n",
      " 'scrapy.extensions.memusage.MemoryUsage',\n",
      " 'scrapy.extensions.feedexport.FeedExporter',\n",
      " 'scrapy.extensions.logstats.LogStats']\n",
      "2021-03-25 15:26:43 [scrapy.middleware] INFO: Enabled downloader middlewares:\n",
      "['scrapy.downloadermiddlewares.httpauth.HttpAuthMiddleware',\n",
      " 'scrapy.downloadermiddlewares.downloadtimeout.DownloadTimeoutMiddleware',\n",
      " 'scrapy.downloadermiddlewares.defaultheaders.DefaultHeadersMiddleware',\n",
      " 'scrapy.downloadermiddlewares.useragent.UserAgentMiddleware',\n",
      " 'scrapy.downloadermiddlewares.retry.RetryMiddleware',\n",
      " 'scrapy.downloadermiddlewares.redirect.MetaRefreshMiddleware',\n",
      " 'scrapy.downloadermiddlewares.httpcompression.HttpCompressionMiddleware',\n",
      " 'scrapy.downloadermiddlewares.redirect.RedirectMiddleware',\n",
      " 'scrapy.downloadermiddlewares.cookies.CookiesMiddleware',\n",
      " 'scrapy.downloadermiddlewares.httpproxy.HttpProxyMiddleware',\n",
      " 'scrapy.downloadermiddlewares.stats.DownloaderStats']\n",
      "2021-03-25 15:26:43 [scrapy.middleware] INFO: Enabled spider middlewares:\n",
      "['scrapy.spidermiddlewares.httperror.HttpErrorMiddleware',\n",
      " 'scrapy.spidermiddlewares.offsite.OffsiteMiddleware',\n",
      " 'scrapy.spidermiddlewares.referer.RefererMiddleware',\n",
      " 'scrapy.spidermiddlewares.urllength.UrlLengthMiddleware',\n",
      " 'scrapy.spidermiddlewares.depth.DepthMiddleware']\n",
      "2021-03-25 15:26:43 [scrapy.middleware] INFO: Enabled item pipelines:\n",
      "[]\n",
      "2021-03-25 15:26:43 [scrapy.core.engine] INFO: Spider opened\n",
      "2021-03-25 15:26:43 [scrapy.extensions.logstats] INFO: Crawled 0 pages (at 0 pages/min), scraped 0 items (at 0 items/min)\n",
      "2021-03-25 15:26:43 [scrapy.extensions.telnet] INFO: Telnet console listening on 127.0.0.1:6024\n",
      "2021-03-25 15:26:45 [scrapy.core.engine] DEBUG: Crawled (200) <GET https://www.verkkokauppa.com/fi/product/63728/kksnk/Samsung-Galaxy-Watch-46-mm-hopea/reviews?sort=helpfulness:desc> (referer: None)\n",
      "2021-03-25 15:26:45 [scrapy.core.scraper] DEBUG: Scraped from <200 https://www.verkkokauppa.com/fi/product/63728/kksnk/Samsung-Galaxy-Watch-46-mm-hopea/reviews?sort=helpfulness:desc>\n",
      "{'text': 'On tosi kätevää, kun kalenterimuistutus tai saapuva viesti, esim. sähköpostit eri tileiltä, whatsapp, face, ym. värähtää ranteeseen ja voi nopeasti ranneliikkeellä vilkaista, mitä asia koskee. Viestiin voi jopa vastata jollakin vakiovastauksella, joita voi itse muokata. Ilmaisista kellotauluista löysin asetuksia säätämällä itselleni mukavan. eSIMiä en ole vielä ottanut käyttöön, sitä eivät tue vielä kaikki operaattorit. Päivän kalenterin saa kellotauluunkin tai kehää kiertämällä. Normaalikäytössä akkua kuluu noin 25% päivässä, tosin on yhtä helppoa jättää kello yöksi pöydälle kuin laturin päälle latautumaan. Samsung health on turhan tiukasti integroitu, vaikea kytkeä pois kokonaan. Puhelun puhuminen kellon kautta herättää positiivisia reaktioita lähiympäristössä.', 'gender': 'mies'}\n",
      "2021-03-25 15:26:45 [scrapy.core.scraper] DEBUG: Scraped from <200 https://www.verkkokauppa.com/fi/product/63728/kksnk/Samsung-Galaxy-Watch-46-mm-hopea/reviews?sort=helpfulness:desc>\n",
      "{'text': 'Todella kattavat älyominaisuudet: 4G/LTE, Spotify, Tidal, GolfGPS, Puhelut, Ilmoitukset, Älykkäät muistutuksetSelkeästi parhaimman näköinen ja jämäkkä älykello, jonka urheilutoiminnoissa ei ole valittamistaAinoa älykello jossa kehän pyöristämisellä voi navigoida käyttöliittymässäUniversaali ranneke kokoHyvin tarkka ja kirkas näyttöAkkukesto on suhteessa hyvä ja lataus tehty helpoksi ja nopeaksi. Aktiivikäytöllä 3-4 päivää.Samsung Pay ei toimi vielä SuomessaPuheohjaus (Bixby) ei toimi suomeksi', 'gender': 'mies'}\n",
      "2021-03-25 15:26:45 [scrapy.core.scraper] DEBUG: Scraped from <200 https://www.verkkokauppa.com/fi/product/63728/kksnk/Samsung-Galaxy-Watch-46-mm-hopea/reviews?sort=helpfulness:desc>\n",
      "{'text': \"Aiemmin en ole näihin koskenut koska 1-2 vrk akunkesto ei ole oikein ollut mun juttu. Nyt akkua riittää sen 4 päivää ja kun vaikka saunomisen ajaksi jättää latautumaan voi kelloa käyttää koko ajan. Terveys sovellukset tavoitteineen ovat jo saaneet aikaan sen että tässä kirittää itse itseään (mm. portaiden nousu/päivä tavoitetta nostettu jo pariin kertaan). Samsung health on aika hyvä, mutta ko. sovellusta en ole vielä saanut juttelemaan Withingsin vaa'an kanssa (ei liity kyllä tähän kelloon mitenkään). Synkronoituu hienosti (ainakin Samsungin puhelimeen) ja mikä parasta ranneke on erittäin hyvä. Edellisen kellon (Nokia/Withings Steel HR) ranneke oli ulkoisesti samaa materiaalia, mutta aiheutti hiertymää ranteeseen kokoajan käytettynä, tämä ei.\", 'gender': 'mies'}\n",
      "2021-03-25 15:26:45 [scrapy.core.scraper] DEBUG: Scraped from <200 https://www.verkkokauppa.com/fi/product/63728/kksnk/Samsung-Galaxy-Watch-46-mm-hopea/reviews?sort=helpfulness:desc>\n",
      "{'text': 'Kello on ollut nyt pari viikkoa käytössä ja olen eittäin tyytyväinen hankintaan. Sähköpostit, puhelut, whatsapp jne. toimivat hyvin. Operaattorin vaihdon jälkeen sain eSimin käyttööni ja puhelutkin hoituvat hienosti ilman yhteyttä kännykkään. Ostin hyvien kokemusten perusteella vielä vaimolle 42 mm Watchin.', 'gender': 'mies'}\n",
      "2021-03-25 15:26:45 [scrapy.core.scraper] DEBUG: Scraped from <200 https://www.verkkokauppa.com/fi/product/63728/kksnk/Samsung-Galaxy-Watch-46-mm-hopea/reviews?sort=helpfulness:desc>\n",
      "{'text': 'Edellinen kelloni oli S3. Tässä uudessa versiossa yksi miellyttävä uusi toiminto on Hyvää yötä -tila. Kun tämä on aktivoitu, ei näyttö yön aikana aktivoidu, vaan näyttö pysyy pimeänä. Näytön valon kirkkaus ei näin ollen häiritse yön aikana. Toisena plussana on akun kesto. Verraten edeltäjäänsä, akku kestää huomattavasti pidempään. Ei tarvitse olla lataamassa päivittäin.', 'gender': ''}\n",
      "2021-03-25 15:26:45 [scrapy.core.scraper] DEBUG: Scraped from <200 https://www.verkkokauppa.com/fi/product/63728/kksnk/Samsung-Galaxy-Watch-46-mm-hopea/reviews?sort=helpfulness:desc>\n",
      "{'text': 'Muutama vuosi sitten kohistiin rannepuhelimesta, mutta nyt se on tämän päivän todellisuutta ilman isoja otsikoita. Aktivoin omaan watchiini E-simmin ja laite toimii itsenäisenä puhelinlaitteena tarvittaessa.Kellossa on tämmöistä tavallista kuntourheilijaa ajatellen todella kattavat sporttiominaisuudet ja tilastot päivittyvät hienosti puhelimen Health sovellukseen.Jopa suunnistus onnistuu mainiosti itsenäisenä rannelaitteena  ja akku kestää melko aktiivisessa käytössä noin 4 päivää. Spotify toimii hienosti ja sen saa yhdistettyä langattomiin BT kuulokkeisiin.Toivottavasti Bixby apuri alkaa joskus ymmärtämään suomenkieltä, sillä esim. suomenkielisten paikannimien lausuminen tai suomalaisten nimien lausuminen bixbylle on aika haasteellista.', 'gender': 'mies'}\n",
      "2021-03-25 15:26:45 [scrapy.core.scraper] DEBUG: Scraped from <200 https://www.verkkokauppa.com/fi/product/63728/kksnk/Samsung-Galaxy-Watch-46-mm-hopea/reviews?sort=helpfulness:desc>\n",
      "{'text': 'Hyvin toimiva monipuolinen älykello. Hihna mielestäni epämukava, vaihdoin metalliseen. E-sim toimii hyvin, kerran on kadottanut etäyhteyden kuukauden aikana, uudelleen käynnistämällä palasi.', 'gender': 'mies'}\n",
      "2021-03-25 15:26:45 [scrapy.core.scraper] DEBUG: Scraped from <200 https://www.verkkokauppa.com/fi/product/63728/kksnk/Samsung-Galaxy-Watch-46-mm-hopea/reviews?sort=helpfulness:desc>\n",
      "{'text': \"Got it from my wife for birthday and I absolutely love it. I'm a gadget guy and this thing replaced lots of my older gadgets.Great quality, appealing looks, easy to use.\", 'gender': 'mies'}\n",
      "2021-03-25 15:26:45 [scrapy.core.scraper] DEBUG: Scraped from <200 https://www.verkkokauppa.com/fi/product/63728/kksnk/Samsung-Galaxy-Watch-46-mm-hopea/reviews?sort=helpfulness:desc>\n",
      "{'text': 'Suosittelen, jos on halua saada laadukkaan tuotteen ja on valmis käyttää rahaa siihen.', 'gender': 'mies'}\n",
      "2021-03-25 15:26:45 [scrapy.core.scraper] DEBUG: Scraped from <200 https://www.verkkokauppa.com/fi/product/63728/kksnk/Samsung-Galaxy-Watch-46-mm-hopea/reviews?sort=helpfulness:desc>\n",
      "{'text': 'Kello ok kellona, muuten en suosittele. Sykemittaus näyttää täysin väärin. Aluksi ei saanut mitattua edes unen vaiheita, koska pätki niin pahasti. Päivityksen jälkeen unen vaiheet löytyy, mutta edelleen kadottaa sykkeen esim urheilusuorituksen aikana, ehkä puolet ajasta mittaa, joka johtaa siihen, että myöskään kalorilaskuri ei pidä paikkansa. Työkaverilla sama kello ja samat ongelmat. Myös samsung tuki myöntänyt tämän. Lisäksi samsung pay ei toimi Suomessa. Palautukseen menee.', 'gender': ''}\n",
      "2021-03-25 15:26:45 [scrapy.core.scraper] DEBUG: Scraped from <200 https://www.verkkokauppa.com/fi/product/63728/kksnk/Samsung-Galaxy-Watch-46-mm-hopea/reviews?sort=helpfulness:desc>\n",
      "{'text': 'Kaikki toimii niin kuin pitääkin. Joskus sykemittari jättää mittauksia välistä, yleensä silloin johtunut liian löysällä olleesta hihnasta.Pitkä valmiusaika, 3 vrk. voi huoletta käyttää. Edellistä kelloa (Huawei Watch), vaikka hyvä olikin, sai ladata kerran päivässä.Vaikka silikoniranneketta alussa vierastin ja ostin tilalle nahkaisen, olen palannut alkuperäiseen silikoniseen.eSim-ominaisuuksia en ole Elisan asiakkaana päässyt vielä testaamaan, tämän vuoden aikana sekin pitäisi olla mahdollista.Suosittelen kännykän jatkeeksi, liikunnan seurantaan ja jopa kelloksi! :-)', 'gender': ''}\n",
      "2021-03-25 15:26:45 [scrapy.core.scraper] DEBUG: Scraped from <200 https://www.verkkokauppa.com/fi/product/63728/kksnk/Samsung-Galaxy-Watch-46-mm-hopea/reviews?sort=helpfulness:desc>\n",
      "{'text': 'Hyvät ominaisuudet / toiminnot, hyvä akunkesto. offlinessakin musikiin kuuntelu on tosi yes! Ainoastaan pankkikorttia en siihen saa laitettua, vaikka simppeliä sekin pitäisi olla.', 'gender': 'mies'}\n",
      "2021-03-25 15:26:45 [scrapy.core.scraper] DEBUG: Scraped from <200 https://www.verkkokauppa.com/fi/product/63728/kksnk/Samsung-Galaxy-Watch-46-mm-hopea/reviews?sort=helpfulness:desc>\n",
      "{'text': 'Olen kaikin puolin tyytyväinen kelloon. Toimii hyvin myös sportatessa.', 'gender': ''}\n",
      "2021-03-25 15:26:45 [scrapy.core.scraper] DEBUG: Scraped from <200 https://www.verkkokauppa.com/fi/product/63728/kksnk/Samsung-Galaxy-Watch-46-mm-hopea/reviews?sort=helpfulness:desc>\n",
      "{'text': 'Monipuolinen ja yllättävänkin helppokäyttöinen älykello kaiken ikäisille. Toki hintaa on, mutta onhan tässä ominaisuuksiakin. Plussaa ulkonäöstä, sekään ei ole yhdentekevää. Enemmän on käyttökohteita ja ominaisuuksia kuin ehtii kokeilemaan. Peruskäyttöönkin silti passeli.', 'gender': ''}\n",
      "2021-03-25 15:26:45 [scrapy.core.scraper] DEBUG: Scraped from <200 https://www.verkkokauppa.com/fi/product/63728/kksnk/Samsung-Galaxy-Watch-46-mm-hopea/reviews?sort=helpfulness:desc>\n",
      "{'text': 'Pitkään odotin että Elisan yrittysliittymiin saa eSimin. Nyt kun sen saa, ostin kellon heti.', 'gender': 'mies'}\n",
      "2021-03-25 15:26:45 [scrapy.core.scraper] DEBUG: Scraped from <200 https://www.verkkokauppa.com/fi/product/63728/kksnk/Samsung-Galaxy-Watch-46-mm-hopea/reviews?sort=helpfulness:desc>\n",
      "{'text': 'Paljon toimintoja jotka toimii hyvin. Ainoa joka ei toimi kunnolla on sykkeen mittaus. Antaa kuntosalilla erikoisia tuloksia.', 'gender': 'mies'}\n",
      "2021-03-25 15:26:45 [scrapy.core.scraper] DEBUG: Scraped from <200 https://www.verkkokauppa.com/fi/product/63728/kksnk/Samsung-Galaxy-Watch-46-mm-hopea/reviews?sort=helpfulness:desc>\n",
      "{'text': 'Ei ole yhteensopiva kaikkien android puhelimien kanssa. Myyjienkin olisi hyvä tietää kun asiakas kysyy. Sovelluksista osa on lakannut toimimasta, päivityksiä ei ole. Hieman sellainen rantarolex tunne tulee kun tähän rahat vaimo laittoi ja sain synttärilahjaksi. Aika näkyy kyllä, mutta esim urheillessa ei kannata pitää, ei osaa mitata. Levossa välillä syke 160, viimeinen samsung laite minulla', 'gender': 'mies'}\n",
      "2021-03-25 15:26:45 [scrapy.core.scraper] DEBUG: Scraped from <200 https://www.verkkokauppa.com/fi/product/63728/kksnk/Samsung-Galaxy-Watch-46-mm-hopea/reviews?sort=helpfulness:desc>\n",
      "{'text': 'Tyylikäs kello. Käyn suihkussa ja saunassa kellon kanssa ja se kyllä kestää.Ostin netistä lisärannekkeet joilla kello muuttuu hetkessä vaikka salikellosta pukukelloon.Kellolla ei voi toistaiseksi maksaa Suomessa kun Samsung Pay ei toimi Suomessa vielä. Kelloon ei saa ainakaan Elisalla multisim joten jos haluat eSIM-liittymä kelloon se on oltava eri liittymä kuin puhelimessa.Muuten olen erittäin tyytyväinen vaikka sovellusvalikoima on aika suppea.', 'gender': 'mies'}\n",
      "2021-03-25 15:26:45 [scrapy.core.scraper] DEBUG: Scraped from <200 https://www.verkkokauppa.com/fi/product/63728/kksnk/Samsung-Galaxy-Watch-46-mm-hopea/reviews?sort=helpfulness:desc>\n",
      "{'text': 'Erittäin hyvä ja toimiva kello. Sopivan kokoinen ja akku kestää monta päivää.', 'gender': 'mies'}\n",
      "2021-03-25 15:26:45 [scrapy.core.scraper] DEBUG: Scraped from <200 https://www.verkkokauppa.com/fi/product/63728/kksnk/Samsung-Galaxy-Watch-46-mm-hopea/reviews?sort=helpfulness:desc>\n",
      "{'text': 'Hieno kello monipuolinen!Voi kaytaa monissa urheilu lajissa', 'gender': 'mies'}\n",
      "2021-03-25 15:26:45 [scrapy.core.scraper] DEBUG: Scraped from <200 https://www.verkkokauppa.com/fi/product/63728/kksnk/Samsung-Galaxy-Watch-46-mm-hopea/reviews?sort=helpfulness:desc>\n",
      "{'text': 'On niin monipuolinen että menee aikaa kaiken opetteluun. mutta kaikki näyttää toimivan hyvin', 'gender': 'mies'}\n",
      "2021-03-25 15:26:45 [scrapy.core.scraper] DEBUG: Scraped from <200 https://www.verkkokauppa.com/fi/product/63728/kksnk/Samsung-Galaxy-Watch-46-mm-hopea/reviews?sort=helpfulness:desc>\n",
      "{'text': 'Plussat:-kohtuullinen akkukestolaatu yleisestiMiinukset:-ekosysteemi (sovellusvalikoima) varauksin', 'gender': 'mies'}\n",
      "2021-03-25 15:26:45 [scrapy.core.scraper] DEBUG: Scraped from <200 https://www.verkkokauppa.com/fi/product/63728/kksnk/Samsung-Galaxy-Watch-46-mm-hopea/reviews?sort=helpfulness:desc>\n",
      "{'text': 'Kello tuntuu pysyvän joinkin ajassa. Askelmittari toimii. No toimii ja toimii. Istuessakin tulee 100 askelta tunnissa. Käyttis androidi 5.1 eli pitäisi toimia. Mutta kun pitäisi olla 1,5 vapaata käyttömuistia puhelimessa että voisi yrittää yhdistää puhelimeen ja hyödyntää ominaisuuksia. Omaa rahaa ei mennyt hukkaan kun sain lahjana työpaikalta.', 'gender': 'mies'}\n",
      "2021-03-25 15:26:45 [scrapy.core.scraper] DEBUG: Scraped from <200 https://www.verkkokauppa.com/fi/product/63728/kksnk/Samsung-Galaxy-Watch-46-mm-hopea/reviews?sort=helpfulness:desc>\n",
      "{'text': 'Toimii juuri niin kuin pitää...Ei yllätyksiä...Ja arvosteluni on liian lyhyt, mutta runosuoni ei nyt \"tykitä\".', 'gender': 'mies'}\n",
      "2021-03-25 15:26:45 [scrapy.core.engine] INFO: Closing spider (finished)\n",
      "2021-03-25 15:26:45 [scrapy.extensions.feedexport] INFO: Stored json feed (24 items) in: results.json\n",
      "2021-03-25 15:26:45 [scrapy.statscollectors] INFO: Dumping Scrapy stats:\n",
      "{'downloader/request_bytes': 309,\n",
      " 'downloader/request_count': 1,\n",
      " 'downloader/request_method_count/GET': 1,\n",
      " 'downloader/response_bytes': 61469,\n",
      " 'downloader/response_count': 1,\n",
      " 'downloader/response_status_count/200': 1,\n",
      " 'elapsed_time_seconds': 1.783482,\n",
      " 'finish_reason': 'finished',\n",
      " 'finish_time': datetime.datetime(2021, 3, 25, 13, 26, 45, 273473),\n",
      " 'item_scraped_count': 24,\n",
      " 'log_count/DEBUG': 25,\n",
      " 'log_count/INFO': 11,\n",
      " 'memusage/max': 50626560,\n",
      " 'memusage/startup': 50626560,\n",
      " 'response_received_count': 1,\n",
      " 'scheduler/dequeued': 1,\n",
      " 'scheduler/dequeued/memory': 1,\n",
      " 'scheduler/enqueued': 1,\n",
      " 'scheduler/enqueued/memory': 1,\n",
      " 'start_time': datetime.datetime(2021, 3, 25, 13, 26, 43, 489991)}\n",
      "2021-03-25 15:26:45 [scrapy.core.engine] INFO: Spider closed (finished)\n"
     ]
    }
   ],
   "source": [
    "!scrapy runspider verkkokauppa_scraper.py -o results.json"
   ]
  },
  {
   "cell_type": "markdown",
   "metadata": {},
   "source": [
    "Viikko 3\n",
    "\n",
    "Osallistuin kolmannelle luennolle livenä. Koneoppimiseen liittyvä luento oli ehkäpä luennoista se, jota odotin eniten. Minulla on jonkin verran aikaisempaa kokemusta koneoppimisesta aikasisempien työkokemusteni vuoksi. Siksi koneoppimisen peruskäistteet, kuten suprvised ja unsupervised learning olivat minulle ennestään tuttuja. Myös koneoppimisen perus käyttötarkoitukset ja mallien opettaminen olivat minulle tuttuja asioita. Kuitenkin aikaisempi käytännön kokemukseni painottuu lähinnä kuvadataan ja siihen liittyviin kirjastoihin, kuten tensorflown object detection-ominaisuuksiin, joten toivon oppivani lisää numeerisen datan käsittelystä koneoppimisen avulla.\n",
    "\n",
    "Myös luonnollisen kielen analyysi oli minulle periaatteen tasolla tuttua asiaa. Kuitenkaan myöskään tästä minulla ei ole käytännön kokemusta. Luennon NLP-esimerkki olikin mielenkiintoinen konkreettisuutensa takia.\n",
    "\n",
    "Viikon opit:\n",
    "1) NLP:n toteuttaminen käytännössä\n",
    "2) Ideoita NLP:n käyttökohteista\n",
    "\n"
   ]
  }
 ],
 "metadata": {
  "kernelspec": {
   "display_name": "Python 3",
   "language": "python",
   "name": "python3"
  },
  "language_info": {
   "codemirror_mode": {
    "name": "ipython",
    "version": 3
   },
   "file_extension": ".py",
   "mimetype": "text/x-python",
   "name": "python",
   "nbconvert_exporter": "python",
   "pygments_lexer": "ipython3",
   "version": "3.8.5"
  }
 },
 "nbformat": 4,
 "nbformat_minor": 4
}
