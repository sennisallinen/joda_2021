{
 "cells": [
  {
   "cell_type": "markdown",
   "metadata": {},
   "source": [
    "## Johdanto datatieteeseen harjoitustyö 2021\n",
    "\n",
    "# Tampereella myynnissä olevien kaksioiden hinnan ja sijainnin ennustaminen\n",
    "\n",
    "Tämä tiedosto sisältää johdanto datatieteeseen kurssin harjoitustyön. Harjoitustyön tarkoituksena on kerätä dataa etuovi.com sivulta Tampereella myynnissä olevista kaksioista."
   ]
  },
  {
   "cell_type": "markdown",
   "metadata": {},
   "source": [
    "## Tarvittavat kirjastot"
   ]
  },
  {
   "cell_type": "code",
   "execution_count": 31,
   "metadata": {},
   "outputs": [],
   "source": [
    "import pandas as pd\n",
    "import matplotlib.pyplot as plt\n",
    "import seaborn as sns\n",
    "import time, os\n",
    "\n",
    "from sklearn.preprocessing import LabelEncoder\n",
    "from sklearn.model_selection import train_test_split, validation_curve\n",
    "from sklearn.ensemble import ExtraTreesClassifier, RandomForestClassifier\n",
    "from sklearn.metrics import mean_squared_error, r2_score, confusion_matrix, accuracy_score, classification_report\n",
    "from sklearn.linear_model import LinearRegression\n",
    "from sklearn.linear_model import LinearRegression # OLS algorithm\n",
    "from sklearn.linear_model import Ridge # Ridge algorithm\n",
    "from sklearn.linear_model import Lasso # Lasso algorithm\n",
    "from sklearn.linear_model import BayesianRidge # Bayesian algorithm\n",
    "from sklearn.linear_model import ElasticNet # ElasticNet algorithm\n",
    "from sklearn.metrics import explained_variance_score as evs # evaluation metric\n",
    "from sklearn.metrics import r2_score as r2 # evaluation metric\n",
    "from termcolor import colored as cl # text customization\n",
    "from xgboost import XGBRegressor, XGBClassifier"
   ]
  },
  {
   "cell_type": "markdown",
   "metadata": {},
   "source": [
    "## Datan kerääminen"
   ]
  },
  {
   "cell_type": "code",
   "execution_count": null,
   "metadata": {},
   "outputs": [],
   "source": [
    "!scrapy genspider etuovi_scraper etuovi.com"
   ]
  },
  {
   "cell_type": "code",
   "execution_count": null,
   "metadata": {},
   "outputs": [],
   "source": [
    "import scrapy\n",
    "\n",
    "class EtuoviScraperSpider(scrapy.Spider):\n",
    "    name = 'etuovi_scraper'\n",
    "    allowed_domains = ['etuovi.com']\n",
    "    # assing a product-review-page url below\n",
    "    start_urls = ['https://www.etuovi.com/myytavat-asunnot/tampere?haku=M1644131810']\n",
    "    \n",
    "    def parse(self, response):\n",
    "        \n",
    "        osoite = response.css('.flexboxgrid__col-xs-12__1I1LS.flexboxgrid__col-sm-7__1EzZq.flexboxgrid__col-md-9__2kjy7.flexboxgrid__col-lg-9__M7bfm.styles__infoArea__2yhEL > div.styles__cardTitle__14F5m > div.flexboxgrid__row__wfmuy > div > h4')\n",
    "        \n",
    "        kadut = []\n",
    "        kaupunginosat = []\n",
    "        for i in range(len(osoite)):\n",
    "            osoite[i] = \"\".join(osoite[i].css('::text').extract()).strip()\n",
    "            katu, kaupunginosa, kaupunki = osoite[i].split(', ')\n",
    "            kadut.append(katu)\n",
    "            kaupunginosat.append(kaupunginosa)\n",
    "\n",
    "        hinta = response.css('.flexboxgrid__col-xs-12__1I1LS.flexboxgrid__col-sm-7__1EzZq.flexboxgrid__col-md-9__2kjy7.flexboxgrid__col-lg-9__M7bfm.styles__infoArea__2yhEL > div.styles__cardTitle__14F5m > div.styles__itemInfo__oDGHu > div > div.flexboxgrid__col-xs-4__p2Lev.flexboxgrid__col-md-4__2DYW- > span')\n",
    "        \n",
    "        for i in range(len(hinta)):\n",
    "            hinta[i] = \"\".join(hinta[i].css('::text').extract()).strip()\n",
    "            \n",
    "        ala = response.css('.flexboxgrid__col-xs-12__1I1LS.flexboxgrid__col-sm-7__1EzZq.flexboxgrid__col-md-9__2kjy7.flexboxgrid__col-lg-9__M7bfm.styles__infoArea__2yhEL > div.styles__cardTitle__14F5m > div.styles__itemInfo__oDGHu > div > div.flexboxgrid__col-xs__26GXk.flexboxgrid__col-md-4__2DYW- > span')\n",
    "            \n",
    "        for i in range(len(ala)):\n",
    "            ala[i] = \"\".join(ala[i].css('::text').extract()).strip()\n",
    "            \n",
    "        vuosi = response.css('.flexboxgrid__col-xs-12__1I1LS.flexboxgrid__col-sm-7__1EzZq.flexboxgrid__col-md-9__2kjy7.flexboxgrid__col-lg-9__M7bfm.styles__infoArea__2yhEL > div.styles__cardTitle__14F5m > div.styles__itemInfo__oDGHu > div > div.flexboxgrid__col-xs-3__3Kf8r.flexboxgrid__col-md-4__2DYW- > span')\n",
    "            \n",
    "        for i in range(len(vuosi)):\n",
    "            vuosi[i] = \"\".join(vuosi[i].css('::text').extract()).strip()\n",
    "            \n",
    "\n",
    "        for i in range(len(osoite)):\n",
    "            review = {\n",
    "                'osoite': kadut[i],\n",
    "                'kaupunginosa': kaupunginosat[i],\n",
    "                'hinta': hinta[i],\n",
    "                'koko': ala[i],\n",
    "                'vuosi': vuosi[i],\n",
    "            }\n",
    "            yield review\n",
    "            \n",
    "        for i in range (2,27):    \n",
    "            next_page_url = 'https://www.etuovi.com/myytavat-asunnot/tampere?haku=M1644131810&sivu=' + str(i)\n",
    "            yield response.follow(next_page_url, self.parse)"
   ]
  },
  {
   "cell_type": "code",
   "execution_count": null,
   "metadata": {},
   "outputs": [],
   "source": [
    "#Raavitaan data Etuovesta Scrapyn avulla\n",
    "!scrapy runspider etuovi_scraper.py -o etuovi_results_new.json"
   ]
  },
  {
   "cell_type": "markdown",
   "metadata": {},
   "source": [
    "## Datan tarkastelu ja siistiminen"
   ]
  },
  {
   "cell_type": "code",
   "execution_count": 32,
   "metadata": {},
   "outputs": [],
   "source": [
    "df = pd.read_json('etuovi_results_new.json')"
   ]
  },
  {
   "cell_type": "code",
   "execution_count": 33,
   "metadata": {},
   "outputs": [
    {
     "data": {
      "text/html": [
       "<div>\n",
       "<style scoped>\n",
       "    .dataframe tbody tr th:only-of-type {\n",
       "        vertical-align: middle;\n",
       "    }\n",
       "\n",
       "    .dataframe tbody tr th {\n",
       "        vertical-align: top;\n",
       "    }\n",
       "\n",
       "    .dataframe thead th {\n",
       "        text-align: right;\n",
       "    }\n",
       "</style>\n",
       "<table border=\"1\" class=\"dataframe\">\n",
       "  <thead>\n",
       "    <tr style=\"text-align: right;\">\n",
       "      <th></th>\n",
       "      <th>osoite</th>\n",
       "      <th>kaupunginosa</th>\n",
       "      <th>hinta</th>\n",
       "      <th>koko</th>\n",
       "      <th>vuosi</th>\n",
       "    </tr>\n",
       "  </thead>\n",
       "  <tbody>\n",
       "    <tr>\n",
       "      <th>0</th>\n",
       "      <td>Ollinojankatu 4 D</td>\n",
       "      <td>Lielahti</td>\n",
       "      <td>125 000 €</td>\n",
       "      <td>53,5 m²</td>\n",
       "      <td>1990</td>\n",
       "    </tr>\n",
       "    <tr>\n",
       "      <th>1</th>\n",
       "      <td>Kankurinkatu 8</td>\n",
       "      <td>Amuri</td>\n",
       "      <td>238 000 €</td>\n",
       "      <td>63 m²</td>\n",
       "      <td>1982</td>\n",
       "    </tr>\n",
       "    <tr>\n",
       "      <th>2</th>\n",
       "      <td>Härmälänkatu 30</td>\n",
       "      <td>Rantaperkiö</td>\n",
       "      <td>114 000 €</td>\n",
       "      <td>55 m²</td>\n",
       "      <td>1960</td>\n",
       "    </tr>\n",
       "    <tr>\n",
       "      <th>3</th>\n",
       "      <td>Satamakatu 17</td>\n",
       "      <td>Pyynikki</td>\n",
       "      <td>269 000 €</td>\n",
       "      <td>49 m²</td>\n",
       "      <td>2019</td>\n",
       "    </tr>\n",
       "    <tr>\n",
       "      <th>4</th>\n",
       "      <td>Pellervonkatu 22</td>\n",
       "      <td>Kaleva</td>\n",
       "      <td>173 000 €</td>\n",
       "      <td>50 m²</td>\n",
       "      <td>1965</td>\n",
       "    </tr>\n",
       "  </tbody>\n",
       "</table>\n",
       "</div>"
      ],
      "text/plain": [
       "              osoite kaupunginosa      hinta     koko vuosi\n",
       "0  Ollinojankatu 4 D     Lielahti  125 000 €  53,5 m²  1990\n",
       "1     Kankurinkatu 8        Amuri  238 000 €    63 m²  1982\n",
       "2    Härmälänkatu 30  Rantaperkiö  114 000 €    55 m²  1960\n",
       "3      Satamakatu 17     Pyynikki  269 000 €    49 m²  2019\n",
       "4   Pellervonkatu 22       Kaleva  173 000 €    50 m²  1965"
      ]
     },
     "execution_count": 33,
     "metadata": {},
     "output_type": "execute_result"
    }
   ],
   "source": [
    "df.head()"
   ]
  },
  {
   "cell_type": "code",
   "execution_count": 34,
   "metadata": {},
   "outputs": [
    {
     "name": "stdout",
     "output_type": "stream",
     "text": [
      "<class 'pandas.core.frame.DataFrame'>\n",
      "RangeIndex: 750 entries, 0 to 749\n",
      "Data columns (total 5 columns):\n",
      " #   Column        Non-Null Count  Dtype \n",
      "---  ------        --------------  ----- \n",
      " 0   osoite        750 non-null    object\n",
      " 1   kaupunginosa  750 non-null    object\n",
      " 2   hinta         750 non-null    object\n",
      " 3   koko          750 non-null    object\n",
      " 4   vuosi         750 non-null    object\n",
      "dtypes: object(5)\n",
      "memory usage: 29.4+ KB\n"
     ]
    }
   ],
   "source": [
    "df.info()"
   ]
  },
  {
   "cell_type": "markdown",
   "metadata": {},
   "source": [
    "Raavinnan seurauksena kaikkien tietueiden tietotyyppi on teksti. Datan käsittelyä varten poistetaan tyhjiä arvoja sisältävät rivit ja muutetaan numeeristen arvojen tietotyyppejä, sekä poistetaan datasta yksiköt."
   ]
  },
  {
   "cell_type": "code",
   "execution_count": 35,
   "metadata": {},
   "outputs": [],
   "source": [
    "#postetaan tyhjiä arvoja\n",
    "df = df[df.hinta != '']\n",
    "df = df[df.koko != '']\n",
    "df = df[df.vuosi != '-']"
   ]
  },
  {
   "cell_type": "code",
   "execution_count": 36,
   "metadata": {},
   "outputs": [
    {
     "name": "stdout",
     "output_type": "stream",
     "text": [
      "<class 'pandas.core.frame.DataFrame'>\n",
      "Int64Index: 733 entries, 0 to 749\n",
      "Data columns (total 5 columns):\n",
      " #   Column        Non-Null Count  Dtype  \n",
      "---  ------        --------------  -----  \n",
      " 0   osoite        733 non-null    object \n",
      " 1   kaupunginosa  733 non-null    object \n",
      " 2   hinta         733 non-null    float64\n",
      " 3   koko          733 non-null    float64\n",
      " 4   vuosi         733 non-null    int64  \n",
      "dtypes: float64(2), int64(1), object(2)\n",
      "memory usage: 34.4+ KB\n"
     ]
    }
   ],
   "source": [
    "#poistetaan €-merkki hinnasta ja muutetaan hinta float-arvoksiksi\n",
    "df['hinta'] = df['hinta'].replace('[\\€]','',  \\\n",
    "        regex=True).replace('[\\\\xa0]','', regex=True).replace('[\\\\,]','.', regex=True).astype(float)\n",
    "df = df[df.hinta != 0]\n",
    "#muutetaan vuosiluku int-arvoksi\n",
    "df['vuosi'] = df['vuosi'].astype(int)\n",
    "#poistetaan m²-merkki ja muutetaan pinta-ala float-arvoksi\n",
    "df['koko'] = df['koko'].str.rstrip(' m²').replace(',','.', regex=True)\n",
    "#poistetaan pinta-alat, joissa on kaki arvoa\n",
    "df = df[df.koko != '42.5 / 48.5']\n",
    "df = df[df.koko != '35.5 / 53.5']\n",
    "df = df[df.koko != '68.5 / 94']\n",
    "df = df[df.koko != '61 / 61.5']\n",
    "df = df[df.koko != '70 / 100']\n",
    "df = df[df.koko != '42.5 / 58.5']\n",
    "df['koko'] = df['koko'].astype(float)\n",
    "\n",
    "df.info()"
   ]
  },
  {
   "cell_type": "code",
   "execution_count": 37,
   "metadata": {},
   "outputs": [
    {
     "data": {
      "text/html": [
       "<div>\n",
       "<style scoped>\n",
       "    .dataframe tbody tr th:only-of-type {\n",
       "        vertical-align: middle;\n",
       "    }\n",
       "\n",
       "    .dataframe tbody tr th {\n",
       "        vertical-align: top;\n",
       "    }\n",
       "\n",
       "    .dataframe thead th {\n",
       "        text-align: right;\n",
       "    }\n",
       "</style>\n",
       "<table border=\"1\" class=\"dataframe\">\n",
       "  <thead>\n",
       "    <tr style=\"text-align: right;\">\n",
       "      <th></th>\n",
       "      <th>osoite</th>\n",
       "      <th>kaupunginosa</th>\n",
       "      <th>hinta</th>\n",
       "      <th>koko</th>\n",
       "      <th>vuosi</th>\n",
       "    </tr>\n",
       "  </thead>\n",
       "  <tbody>\n",
       "    <tr>\n",
       "      <th>0</th>\n",
       "      <td>Ollinojankatu 4 D</td>\n",
       "      <td>Lielahti</td>\n",
       "      <td>125000.0</td>\n",
       "      <td>53.5</td>\n",
       "      <td>1990</td>\n",
       "    </tr>\n",
       "    <tr>\n",
       "      <th>1</th>\n",
       "      <td>Kankurinkatu 8</td>\n",
       "      <td>Amuri</td>\n",
       "      <td>238000.0</td>\n",
       "      <td>63.0</td>\n",
       "      <td>1982</td>\n",
       "    </tr>\n",
       "    <tr>\n",
       "      <th>2</th>\n",
       "      <td>Härmälänkatu 30</td>\n",
       "      <td>Rantaperkiö</td>\n",
       "      <td>114000.0</td>\n",
       "      <td>55.0</td>\n",
       "      <td>1960</td>\n",
       "    </tr>\n",
       "    <tr>\n",
       "      <th>3</th>\n",
       "      <td>Satamakatu 17</td>\n",
       "      <td>Pyynikki</td>\n",
       "      <td>269000.0</td>\n",
       "      <td>49.0</td>\n",
       "      <td>2019</td>\n",
       "    </tr>\n",
       "    <tr>\n",
       "      <th>4</th>\n",
       "      <td>Pellervonkatu 22</td>\n",
       "      <td>Kaleva</td>\n",
       "      <td>173000.0</td>\n",
       "      <td>50.0</td>\n",
       "      <td>1965</td>\n",
       "    </tr>\n",
       "  </tbody>\n",
       "</table>\n",
       "</div>"
      ],
      "text/plain": [
       "              osoite kaupunginosa     hinta  koko  vuosi\n",
       "0  Ollinojankatu 4 D     Lielahti  125000.0  53.5   1990\n",
       "1     Kankurinkatu 8        Amuri  238000.0  63.0   1982\n",
       "2    Härmälänkatu 30  Rantaperkiö  114000.0  55.0   1960\n",
       "3      Satamakatu 17     Pyynikki  269000.0  49.0   2019\n",
       "4   Pellervonkatu 22       Kaleva  173000.0  50.0   1965"
      ]
     },
     "execution_count": 37,
     "metadata": {},
     "output_type": "execute_result"
    }
   ],
   "source": [
    "df.head()"
   ]
  },
  {
   "cell_type": "markdown",
   "metadata": {},
   "source": [
    "Nyt sarakkeiden tietotyypit ovat kohdillaan ja yksiköt poistettu. Tarkastellaan vielä datan tilastollisia muuttujia."
   ]
  },
  {
   "cell_type": "code",
   "execution_count": 38,
   "metadata": {},
   "outputs": [
    {
     "data": {
      "text/html": [
       "<div>\n",
       "<style scoped>\n",
       "    .dataframe tbody tr th:only-of-type {\n",
       "        vertical-align: middle;\n",
       "    }\n",
       "\n",
       "    .dataframe tbody tr th {\n",
       "        vertical-align: top;\n",
       "    }\n",
       "\n",
       "    .dataframe thead th {\n",
       "        text-align: right;\n",
       "    }\n",
       "</style>\n",
       "<table border=\"1\" class=\"dataframe\">\n",
       "  <thead>\n",
       "    <tr style=\"text-align: right;\">\n",
       "      <th></th>\n",
       "      <th>hinta</th>\n",
       "      <th>koko</th>\n",
       "      <th>vuosi</th>\n",
       "    </tr>\n",
       "  </thead>\n",
       "  <tbody>\n",
       "    <tr>\n",
       "      <th>count</th>\n",
       "      <td>733.000000</td>\n",
       "      <td>733.000000</td>\n",
       "      <td>733.000000</td>\n",
       "    </tr>\n",
       "    <tr>\n",
       "      <th>mean</th>\n",
       "      <td>214021.790123</td>\n",
       "      <td>47.024420</td>\n",
       "      <td>2010.517053</td>\n",
       "    </tr>\n",
       "    <tr>\n",
       "      <th>std</th>\n",
       "      <td>85101.260025</td>\n",
       "      <td>9.571185</td>\n",
       "      <td>22.131285</td>\n",
       "    </tr>\n",
       "    <tr>\n",
       "      <th>min</th>\n",
       "      <td>12140.170000</td>\n",
       "      <td>22.000000</td>\n",
       "      <td>1880.000000</td>\n",
       "    </tr>\n",
       "    <tr>\n",
       "      <th>25%</th>\n",
       "      <td>168300.000000</td>\n",
       "      <td>40.000000</td>\n",
       "      <td>2015.000000</td>\n",
       "    </tr>\n",
       "    <tr>\n",
       "      <th>50%</th>\n",
       "      <td>201000.000000</td>\n",
       "      <td>46.500000</td>\n",
       "      <td>2022.000000</td>\n",
       "    </tr>\n",
       "    <tr>\n",
       "      <th>75%</th>\n",
       "      <td>252000.000000</td>\n",
       "      <td>53.000000</td>\n",
       "      <td>2022.000000</td>\n",
       "    </tr>\n",
       "    <tr>\n",
       "      <th>max</th>\n",
       "      <td>790000.000000</td>\n",
       "      <td>130.000000</td>\n",
       "      <td>2022.000000</td>\n",
       "    </tr>\n",
       "  </tbody>\n",
       "</table>\n",
       "</div>"
      ],
      "text/plain": [
       "               hinta        koko        vuosi\n",
       "count     733.000000  733.000000   733.000000\n",
       "mean   214021.790123   47.024420  2010.517053\n",
       "std     85101.260025    9.571185    22.131285\n",
       "min     12140.170000   22.000000  1880.000000\n",
       "25%    168300.000000   40.000000  2015.000000\n",
       "50%    201000.000000   46.500000  2022.000000\n",
       "75%    252000.000000   53.000000  2022.000000\n",
       "max    790000.000000  130.000000  2022.000000"
      ]
     },
     "execution_count": 38,
     "metadata": {},
     "output_type": "execute_result"
    }
   ],
   "source": [
    "df.describe()"
   ]
  },
  {
   "cell_type": "markdown",
   "metadata": {},
   "source": [
    "Lasketaan asuntojen neliöhinnat ja lisätään ne omaan sarakkeeseen."
   ]
  },
  {
   "cell_type": "code",
   "execution_count": 39,
   "metadata": {},
   "outputs": [],
   "source": [
    "df['m2-hinta'] = df.hinta / df.koko"
   ]
  },
  {
   "cell_type": "markdown",
   "metadata": {},
   "source": [
    "Visualisoidaan asuntojen kokojen, hintojen, sekä neliöhintojen jakaumat, sekä asuntojen jakauma kaupunginosittain."
   ]
  },
  {
   "cell_type": "code",
   "execution_count": 40,
   "metadata": {},
   "outputs": [
    {
     "name": "stderr",
     "output_type": "stream",
     "text": [
      "/Users/senni/opt/anaconda3/lib/python3.8/site-packages/seaborn/distributions.py:2551: FutureWarning: `distplot` is a deprecated function and will be removed in a future version. Please adapt your code to use either `displot` (a figure-level function with similar flexibility) or `histplot` (an axes-level function for histograms).\n",
      "  warnings.warn(msg, FutureWarning)\n",
      "/Users/senni/opt/anaconda3/lib/python3.8/site-packages/seaborn/distributions.py:2055: FutureWarning: The `axis` variable is no longer used and will be removed. Instead, assign variables directly to `x` or `y`.\n",
      "  warnings.warn(msg, FutureWarning)\n"
     ]
    },
    {
     "data": {
      "image/png": "[encoded data removed]",
      "text/plain": [
       "<Figure size 2160x720 with 1 Axes>"
      ]
     },
     "metadata": {
      "needs_background": "light"
     },
     "output_type": "display_data"
    }
   ],
   "source": [
    "plt.figure(figsize=(30,10))\n",
    "plt.title('Asuntojen kokojen jakauma')\n",
    "plt.xlabel('Asunnon koko neliömetreissä')\n",
    "plt.ylabel('Määrä')\n",
    "sns.distplot(df.koko, rug=True, bins=30);"
   ]
  },
  {
   "cell_type": "markdown",
   "metadata": {},
   "source": [
    "Havaitaan asuntojen kokojen olevan suurimmaksi osaksi 30 ja 70 neliömetrin välillä. Havaitaan myös, että suurin osa asunnoista on noin 40 neliön kokoisia."
   ]
  },
  {
   "cell_type": "code",
   "execution_count": 41,
   "metadata": {},
   "outputs": [
    {
     "name": "stderr",
     "output_type": "stream",
     "text": [
      "/Users/senni/opt/anaconda3/lib/python3.8/site-packages/seaborn/distributions.py:2551: FutureWarning: `distplot` is a deprecated function and will be removed in a future version. Please adapt your code to use either `displot` (a figure-level function with similar flexibility) or `histplot` (an axes-level function for histograms).\n",
      "  warnings.warn(msg, FutureWarning)\n",
      "/Users/senni/opt/anaconda3/lib/python3.8/site-packages/seaborn/distributions.py:2055: FutureWarning: The `axis` variable is no longer used and will be removed. Instead, assign variables directly to `x` or `y`.\n",
      "  warnings.warn(msg, FutureWarning)\n"
     ]
    },
    {
     "data": {
      "image/png": "[encoded data removed]",
      "text/plain": [
       "<Figure size 2160x720 with 1 Axes>"
      ]
     },
     "metadata": {
      "needs_background": "light"
     },
     "output_type": "display_data"
    }
   ],
   "source": [
    "plt.figure(figsize=(30,10))\n",
    "plt.title('Asuntojen hintojen jakauma')\n",
    "sns.distplot(df['hinta'], rug=True);"
   ]
  },
  {
   "cell_type": "markdown",
   "metadata": {},
   "source": [
    "Kuvaajan mukaan asuntojen hinnat ovat yleisimmillään n. 200000 euroa ja hinnat jakautuvat normaalisti sen ympärille."
   ]
  },
  {
   "cell_type": "code",
   "execution_count": 42,
   "metadata": {},
   "outputs": [
    {
     "data": {
      "image/png": "[encoded data removed]",
      "text/plain": [
       "<Figure size 2160x720 with 1 Axes>"
      ]
     },
     "metadata": {
      "needs_background": "light"
     },
     "output_type": "display_data"
    }
   ],
   "source": [
    "plt.figure(figsize=(30,10))\n",
    "plt.title('Asuntojen jakauma kaupunginosittain')\n",
    "sns.countplot(x=df.kaupunginosa.sort_values())\n",
    "plt.xticks(weight='bold',rotation=90,);"
   ]
  },
  {
   "cell_type": "markdown",
   "metadata": {},
   "source": [
    "Asuntoja näyttäisi olevan myynnissä eniten Tampellassa, Keskustassa ja Hervannassa. Tarjolla olevat asunnot eivät ole jakautuneet kovinkaan tasaisesti alueiden välille."
   ]
  },
  {
   "cell_type": "code",
   "execution_count": 43,
   "metadata": {},
   "outputs": [
    {
     "data": {
      "image/png": "[encoded data removed]",
      "text/plain": [
       "<Figure size 2160x720 with 1 Axes>"
      ]
     },
     "metadata": {
      "needs_background": "light"
     },
     "output_type": "display_data"
    }
   ],
   "source": [
    "plt.figure(figsize=(30,10))\n",
    "sns.boxplot(x=df.vuosi, y=df['m2-hinta']);\n",
    "plt.title('Kaksioiden neliöhinnat valmistusvuoden mukaan')\n",
    "plt.xticks(weight='bold',rotation=90);"
   ]
  },
  {
   "cell_type": "markdown",
   "metadata": {},
   "source": [
    "Mielestäni neliöhintojen vertailussa on yllättävää, että 2010-luvun asunnoissa on kuvaajan mukaan näin paljon vaihtelua. Tästä voitaisiin melkein jopa päätellä datassa olevan virheitä. Sen sijaan 70-luvun asuntojen neliöhintojen alhaisuus ei ole yllättävää talojen elinkaaren vaiheeseen perustuen."
   ]
  },
  {
   "cell_type": "markdown",
   "metadata": {},
   "source": [
    "## Piirteiden tunnistaminen\n",
    "\n",
    "Lisätään kaupunginosaa kuvaavalle sarakkeelle numeerinen muuttuja."
   ]
  },
  {
   "cell_type": "code",
   "execution_count": 44,
   "metadata": {},
   "outputs": [
    {
     "name": "stdout",
     "output_type": "stream",
     "text": [
      "Before:\n",
      "osoite           object\n",
      "kaupunginosa     object\n",
      "hinta           float64\n",
      "koko            float64\n",
      "vuosi             int64\n",
      "m2-hinta        float64\n",
      "dtype: object\n",
      "\n",
      "After:\n",
      "osoite            object\n",
      "kaupunginosa      object\n",
      "hinta            float64\n",
      "koko             float64\n",
      "vuosi              int64\n",
      "m2-hinta         float64\n",
      "kaupunginosa_      int64\n",
      "dtype: object\n"
     ]
    }
   ],
   "source": [
    "le = LabelEncoder()\n",
    "print(f'Before:\\n{df.dtypes}')\n",
    "\n",
    "for col in df.columns:\n",
    "    if df[col].dtype == 'object' and col != 'osoite':\n",
    "        newColName = f'{col}_'\n",
    "        fit = le.fit(df[col])\n",
    "        df[newColName] = fit.transform(df[col])\n",
    "print(f'\\nAfter:\\n{df.dtypes}')"
   ]
  },
  {
   "cell_type": "markdown",
   "metadata": {},
   "source": [
    "## Korrelaatioanalyysi\n",
    "\n",
    "Etsitään heatmapin avulla korrelaatioita muuttujien välillä."
   ]
  },
  {
   "cell_type": "code",
   "execution_count": 45,
   "metadata": {},
   "outputs": [
    {
     "data": {
      "image/png": "[encoded data removed]",
      "text/plain": [
       "<Figure size 432x288 with 2 Axes>"
      ]
     },
     "metadata": {
      "needs_background": "light"
     },
     "output_type": "display_data"
    }
   ],
   "source": [
    "sns.heatmap(df.corr(), annot = True, cmap = 'magma')\n",
    "plt.savefig('heatmap.png')\n",
    "plt.show()"
   ]
  },
  {
   "cell_type": "markdown",
   "metadata": {},
   "source": [
    "Kuvasta havaitaan, etteivät korrelaatiot ole kovinkaan vahvoja, mutta rakennusvuoden ja neliöhintojen välillä voidaan havaita olevan selkeä yhteys."
   ]
  },
  {
   "cell_type": "markdown",
   "metadata": {},
   "source": [
    "## Luokittelumalli\n",
    "\n",
    "Tehdään luokittelumalli, jonka avulla voidaan ennustaa, missä kaupunginosassa voisi sijaita tietyn kokoinen ja tiettynä vuonna valmistunut kaksio. Aloitetaan määrittelemällä käytettävät muuttujat ja testaamalla Sklearnin RandomForestClassifier-mallia."
   ]
  },
  {
   "cell_type": "code",
   "execution_count": 46,
   "metadata": {},
   "outputs": [
    {
     "data": {
      "text/plain": [
       "'koko, vuosi'"
      ]
     },
     "execution_count": 46,
     "metadata": {},
     "output_type": "execute_result"
    }
   ],
   "source": [
    "#Määritellään mallin käyttämät muuttujat ja jaetaan data train- ja test-setteihin\n",
    "y = df.kaupunginosa\n",
    "X_clf = df[[ 'koko', 'vuosi']]\n",
    "\n",
    "X_train, X_test, y_train, y_test = train_test_split(X_clf, y, random_state=5)\n",
    "', '.join(X_clf.columns)"
   ]
  },
  {
   "cell_type": "code",
   "execution_count": 47,
   "metadata": {},
   "outputs": [
    {
     "name": "stdout",
     "output_type": "stream",
     "text": [
      "RandomForestClassifier\n",
      "Confusion Matrix :\n",
      "[[0 0 0 ... 0 0 0]\n",
      " [0 1 0 ... 0 0 0]\n",
      " [0 0 0 ... 0 0 0]\n",
      " ...\n",
      " [0 0 0 ... 5 0 0]\n",
      " [0 0 0 ... 0 0 0]\n",
      " [0 0 0 ... 0 0 3]]\n",
      "Accuracy Score : 0.5489130434782609\n",
      "Report : \n",
      "               precision    recall  f1-score   support\n",
      "\n",
      "        Amuri       0.00      0.00      0.00         1\n",
      "       Annala       0.50      0.14      0.22         7\n",
      "  Armonkallio       0.00      0.00      0.00         1\n",
      "        Epilä       0.00      0.00      0.00         1\n",
      "   Haapalinna       1.00      0.33      0.50         3\n",
      "      Hallila       0.00      0.00      0.00         0\n",
      "     Hatanpää       0.67      0.57      0.62         7\n",
      "     Hervanta       0.67      0.53      0.59        19\n",
      "     Holvasti       0.00      0.00      0.00         1\n",
      "      Härmälä       1.00      0.50      0.67         2\n",
      "Härmälänranta       0.00      0.00      0.00         4\n",
      "        Janka       0.33      0.50      0.40         2\n",
      " Juhannuskylä       0.00      0.00      0.00         1\n",
      "       Kaleva       0.80      0.53      0.64        15\n",
      "       Kalkku       0.00      0.00      0.00         1\n",
      "   Kaukajärvi       0.17      0.50      0.25         2\n",
      "     Keskusta       0.68      0.81      0.74        16\n",
      "Koivistonkylä       0.67      0.20      0.31        10\n",
      "  Kämmenniemi       0.00      0.00      0.00         1\n",
      "Lentävänniemi       0.00      0.00      0.00         2\n",
      "   Linnainmaa       0.00      0.00      0.00         1\n",
      "    Messukylä       0.00      0.00      0.00         1\n",
      "   Multisilta       0.00      0.00      0.00         1\n",
      "     Muotiala       1.00      0.50      0.67         2\n",
      "   Mäyränmäki       0.00      0.00      0.00         0\n",
      "  Niemenranta       0.29      0.67      0.40         6\n",
      "   Palokallio       0.00      0.00      0.00         1\n",
      "      Pappila       0.00      0.00      0.00         1\n",
      "      Pohtola       0.00      0.00      0.00         0\n",
      "     Pyynikki       0.00      0.00      0.00         3\n",
      "       Rahola       0.00      0.00      0.00         1\n",
      "  Rantaperkiö       0.00      0.00      0.00         0\n",
      "   Santalahti       0.67      0.92      0.77        13\n",
      "    Takahuhti       0.55      0.67      0.60         9\n",
      "      Tammela       0.50      0.50      0.50         4\n",
      "     Tampella       0.68      0.76      0.72        34\n",
      "    Terälahti       0.00      0.00      0.00         0\n",
      "       Tesoma       0.83      1.00      0.91         5\n",
      "    Vehmainen       0.00      0.00      0.00         1\n",
      "       Vuores       0.27      0.60      0.37         5\n",
      "\n",
      "     accuracy                           0.55       184\n",
      "    macro avg       0.28      0.26      0.25       184\n",
      " weighted avg       0.57      0.55      0.53       184\n",
      "\n"
     ]
    },
    {
     "name": "stderr",
     "output_type": "stream",
     "text": [
      "/Users/senni/opt/anaconda3/lib/python3.8/site-packages/sklearn/metrics/_classification.py:1221: UndefinedMetricWarning: Precision and F-score are ill-defined and being set to 0.0 in labels with no predicted samples. Use `zero_division` parameter to control this behavior.\n",
      "  _warn_prf(average, modifier, msg_start, len(result))\n",
      "/Users/senni/opt/anaconda3/lib/python3.8/site-packages/sklearn/metrics/_classification.py:1221: UndefinedMetricWarning: Recall and F-score are ill-defined and being set to 0.0 in labels with no true samples. Use `zero_division` parameter to control this behavior.\n",
      "  _warn_prf(average, modifier, msg_start, len(result))\n"
     ]
    }
   ],
   "source": [
    "#Sklearnin RandomForestClassifier\n",
    "rf_clf = RandomForestClassifier(random_state=1140, n_estimators=120 , max_depth=20, max_leaf_nodes=230)\n",
    "rf_clf.fit(X_train, y_train)\n",
    "result = rf_clf.predict(X_test)\n",
    "print('RandomForestClassifier')\n",
    "print ('Confusion Matrix :') \n",
    "print(confusion_matrix(y_test, result)) \n",
    "print ('Accuracy Score :',accuracy_score(y_test, result)) \n",
    "print ('Report : ') \n",
    "print (classification_report(y_test, result))"
   ]
  },
  {
   "cell_type": "markdown",
   "metadata": {},
   "source": [
    "Sklearnin RandomForestClassifierilla luokittelumallin tarkkuudeksi saadaan n. 55 %. Kokeillaan vielä XGBoostin XGBClassifieria paremman tarkkuuden saavuttamiseksi."
   ]
  },
  {
   "cell_type": "code",
   "execution_count": 48,
   "metadata": {},
   "outputs": [
    {
     "name": "stderr",
     "output_type": "stream",
     "text": [
      "/Users/senni/opt/anaconda3/lib/python3.8/site-packages/xgboost/sklearn.py:1146: UserWarning: The use of label encoder in XGBClassifier is deprecated and will be removed in a future release. To remove this warning, do the following: 1) Pass option use_label_encoder=False when constructing XGBClassifier object; and 2) Encode your labels (y) as integers starting with 0, i.e. 0, 1, 2, ..., [num_class - 1].\n",
      "  warnings.warn(label_encoder_deprecation_msg, UserWarning)\n"
     ]
    },
    {
     "name": "stdout",
     "output_type": "stream",
     "text": [
      "[12:54:54] WARNING: /Users/travis/build/dmlc/xgboost/src/learner.cc:573: \n",
      "Parameters: { \"max_leaf_nodes\" } might not be used.\n",
      "\n",
      "  This may not be accurate due to some parameters are only used in language bindings but\n",
      "  passed down to XGBoost core.  Or some parameters are not used but slip through this\n",
      "  verification. Please open an issue if you find above cases.\n",
      "\n",
      "\n",
      "[12:54:54] WARNING: /Users/travis/build/dmlc/xgboost/src/learner.cc:1095: Starting in XGBoost 1.3.0, the default evaluation metric used with the objective 'multi:softprob' was changed from 'merror' to 'mlogloss'. Explicitly set eval_metric if you'd like to restore the old behavior.\n",
      "XGBClassifier\n",
      "Confusion Matrix :\n",
      "[[0 0 0 ... 0 0 0]\n",
      " [1 1 0 ... 0 0 0]\n",
      " [0 0 0 ... 0 0 0]\n",
      " ...\n",
      " [0 0 0 ... 5 0 0]\n",
      " [0 0 0 ... 0 0 0]\n",
      " [0 1 0 ... 0 0 3]]\n",
      "Accuracy Score : 0.5271739130434783\n",
      "Report : \n",
      "               precision    recall  f1-score   support\n",
      "\n",
      "        Amuri       0.00      0.00      0.00         1\n",
      "       Annala       0.25      0.14      0.18         7\n",
      "  Armonkallio       0.00      0.00      0.00         1\n",
      "        Epilä       0.00      0.00      0.00         1\n",
      "   Haapalinna       0.33      0.33      0.33         3\n",
      "     Hatanpää       0.80      0.57      0.67         7\n",
      "     Hervanta       0.69      0.58      0.63        19\n",
      "     Holvasti       0.00      0.00      0.00         1\n",
      "      Härmälä       1.00      0.50      0.67         2\n",
      "Härmälänranta       0.50      0.25      0.33         4\n",
      "        Janka       0.00      0.00      0.00         2\n",
      " Juhannuskylä       0.00      0.00      0.00         1\n",
      "   Järvensivu       0.00      0.00      0.00         0\n",
      "       Kaleva       0.73      0.53      0.62        15\n",
      "       Kalkku       0.00      0.00      0.00         1\n",
      "   Kaukajärvi       0.00      0.00      0.00         2\n",
      "     Keskusta       0.63      0.75      0.69        16\n",
      "Koivistonkylä       0.60      0.30      0.40        10\n",
      "  Kämmenniemi       0.00      0.00      0.00         1\n",
      "Lentävänniemi       0.00      0.00      0.00         2\n",
      "     Lielahti       0.00      0.00      0.00         0\n",
      "   Linnainmaa       0.00      0.00      0.00         1\n",
      "    Messukylä       0.00      0.00      0.00         1\n",
      "   Multisilta       0.00      0.00      0.00         1\n",
      "     Muotiala       0.00      0.00      0.00         2\n",
      "   Mäyränmäki       0.00      0.00      0.00         0\n",
      "  Niemenranta       0.36      0.83      0.50         6\n",
      "   Palokallio       0.00      0.00      0.00         1\n",
      "      Pappila       0.00      0.00      0.00         1\n",
      "      Pohtola       0.00      0.00      0.00         0\n",
      "     Pyynikki       0.00      0.00      0.00         3\n",
      "       Rahola       0.00      0.00      0.00         1\n",
      "      Ruotula       0.00      0.00      0.00         0\n",
      "   Santalahti       0.67      0.77      0.71        13\n",
      "    Takahuhti       0.60      0.67      0.63         9\n",
      "      Tammela       0.00      0.00      0.00         4\n",
      "     Tampella       0.58      0.76      0.66        34\n",
      "       Tesoma       0.83      1.00      0.91         5\n",
      "    Vehmainen       0.00      0.00      0.00         1\n",
      "       Vuores       0.43      0.60      0.50         5\n",
      "\n",
      "     accuracy                           0.53       184\n",
      "    macro avg       0.22      0.21      0.21       184\n",
      " weighted avg       0.51      0.53      0.51       184\n",
      "\n"
     ]
    },
    {
     "name": "stderr",
     "output_type": "stream",
     "text": [
      "/Users/senni/opt/anaconda3/lib/python3.8/site-packages/xgboost/data.py:112: UserWarning: Use subset (sliced data) of np.ndarray is not recommended because it will generate extra copies and increase memory consumption\n",
      "  warnings.warn(\n"
     ]
    }
   ],
   "source": [
    "#XGBoostin XGBClassifier\n",
    "xgb_clf = XGBClassifier(random_state=1140, n_estimators=120 , max_depth=20, max_leaf_nodes=230)\n",
    "xgb_clf.fit(X_train, y_train)\n",
    "result = xgb_clf.predict(X_test)\n",
    "print('XGBClassifier')\n",
    "print ('Confusion Matrix :') \n",
    "print(confusion_matrix(y_test, result)) \n",
    "print ('Accuracy Score :',accuracy_score(y_test, result)) \n",
    "print ('Report : ') \n",
    "print (classification_report(y_test, result))"
   ]
  },
  {
   "cell_type": "markdown",
   "metadata": {},
   "source": [
    "XGBClassifierin luokittelutarkkuudeksi saadaan n. 53 %. Havaitaan, ettei kummankaan mallin tarkkuus ole kovin kummoinen, mutta tämä on täysin ymmärrettävää kohtuullisen pienen datasetin takia. Paremman tarkkuuden saavutti sklearnin RandomForestClassifier 55% tarkkuudella, joten valitaan se toimeenpanovaiheen luokittelumalliksi. Tarkastellaan vielä miten eri valittu malli painottaa muuttujia kaupunginosan ennustamisessa."
   ]
  },
  {
   "cell_type": "code",
   "execution_count": 49,
   "metadata": {},
   "outputs": [
    {
     "data": {
      "image/png": "[encoded data removed]",
      "text/plain": [
       "<Figure size 432x288 with 1 Axes>"
      ]
     },
     "metadata": {
      "needs_background": "light"
     },
     "output_type": "display_data"
    }
   ],
   "source": [
    "feat_importances = pd.Series(rf_clf.feature_importances_, index=X_train.columns)\n",
    "feat_importances.nlargest().plot(kind='barh');"
   ]
  },
  {
   "cell_type": "markdown",
   "metadata": {},
   "source": [
    "Näyttää, että malli painottaa kaupunginosan valinnassa kokoa valmistumisvuotta enemmän."
   ]
  },
  {
   "cell_type": "markdown",
   "metadata": {},
   "source": [
    "## Regressiomalli\n",
    "\n",
    "Regressioanalyysissä pyritään ennustamaan asunnon hintaa koon, valmistumisvuoden ja kaupunginosan avulla. Aloitetaan määrittämällä käytettävät muuttujat ja testaamalla Sklearnin linear regression-algoritmia."
   ]
  },
  {
   "cell_type": "code",
   "execution_count": 50,
   "metadata": {},
   "outputs": [
    {
     "data": {
      "text/html": [
       "<div>\n",
       "<style scoped>\n",
       "    .dataframe tbody tr th:only-of-type {\n",
       "        vertical-align: middle;\n",
       "    }\n",
       "\n",
       "    .dataframe tbody tr th {\n",
       "        vertical-align: top;\n",
       "    }\n",
       "\n",
       "    .dataframe thead th {\n",
       "        text-align: right;\n",
       "    }\n",
       "</style>\n",
       "<table border=\"1\" class=\"dataframe\">\n",
       "  <thead>\n",
       "    <tr style=\"text-align: right;\">\n",
       "      <th></th>\n",
       "      <th>koko</th>\n",
       "      <th>vuosi</th>\n",
       "      <th>kaupunginosa_</th>\n",
       "    </tr>\n",
       "  </thead>\n",
       "  <tbody>\n",
       "    <tr>\n",
       "      <th>398</th>\n",
       "      <td>49.5</td>\n",
       "      <td>2022</td>\n",
       "      <td>26</td>\n",
       "    </tr>\n",
       "    <tr>\n",
       "      <th>320</th>\n",
       "      <td>59.0</td>\n",
       "      <td>1959</td>\n",
       "      <td>24</td>\n",
       "    </tr>\n",
       "    <tr>\n",
       "      <th>358</th>\n",
       "      <td>34.5</td>\n",
       "      <td>2022</td>\n",
       "      <td>26</td>\n",
       "    </tr>\n",
       "    <tr>\n",
       "      <th>240</th>\n",
       "      <td>64.5</td>\n",
       "      <td>2022</td>\n",
       "      <td>24</td>\n",
       "    </tr>\n",
       "    <tr>\n",
       "      <th>337</th>\n",
       "      <td>57.5</td>\n",
       "      <td>1971</td>\n",
       "      <td>35</td>\n",
       "    </tr>\n",
       "  </tbody>\n",
       "</table>\n",
       "</div>"
      ],
      "text/plain": [
       "     koko  vuosi  kaupunginosa_\n",
       "398  49.5   2022             26\n",
       "320  59.0   1959             24\n",
       "358  34.5   2022             26\n",
       "240  64.5   2022             24\n",
       "337  57.5   1971             35"
      ]
     },
     "execution_count": 50,
     "metadata": {},
     "output_type": "execute_result"
    }
   ],
   "source": [
    "#Määritellään käytettävät muuttujat ja jaetaan data train- ja test-setteihin\n",
    "y = df.hinta\n",
    "X = df[['koko', 'vuosi', 'kaupunginosa_']] \n",
    "X_train, X_test, y_train, y_test = train_test_split(X, y, random_state=3)\n",
    "X_train.head()"
   ]
  },
  {
   "cell_type": "code",
   "execution_count": 51,
   "metadata": {},
   "outputs": [
    {
     "name": "stdout",
     "output_type": "stream",
     "text": [
      "LinearRegression\n",
      "Time taken to run: 0.0068 seconds\n",
      "\n",
      "Training RMSE: 78090.2384\n",
      "Testing RMSE: 73320.4485\n",
      "\n",
      "Training R2: 0.1998\n",
      "Testing R2: 0.112\n"
     ]
    }
   ],
   "source": [
    "#Sklearnin LinearRegression-malli\n",
    "time_start = time.time()\n",
    "\n",
    "l_regr = LinearRegression()\n",
    "l_regr.fit(X_train, y_train)\n",
    "\n",
    "train_result = l_regr.predict(X_train)\n",
    "test_result = l_regr.predict(X_test)\n",
    "\n",
    "time_end = time.time()\n",
    "\n",
    "rmse_train = mean_squared_error(y_train, train_result, squared=False)\n",
    "r2_train = r2_score(y_train, train_result)\n",
    "\n",
    "rmse_test = mean_squared_error(y_test, test_result, squared=False)\n",
    "r2_test = r2_score(y_test, test_result)\n",
    "print('LinearRegression')\n",
    "print(f\"Time taken to run: {round(time_end - time_start, 4)} seconds\")\n",
    "print(\"\\nTraining RMSE:\", round(rmse_train,4))\n",
    "print(\"Testing RMSE:\", round(rmse_test,4))\n",
    "print(\"\\nTraining R2:\", round(r2_train,4))\n",
    "print(\"Testing R2:\", round(r2_test,4))"
   ]
  },
  {
   "cell_type": "markdown",
   "metadata": {},
   "source": [
    "Testatun mallin tarkkuus on huono, joten testataan vielä muutamia muita Sklearnin malleja paremman tarkkuuden saavuttamiseksi."
   ]
  },
  {
   "cell_type": "code",
   "execution_count": 52,
   "metadata": {},
   "outputs": [
    {
     "name": "stdout",
     "output_type": "stream",
     "text": [
      "\u001b[1mEXPLAINED VARIANCE SCORE:\u001b[0m\n",
      "-------------------------------------------------------------------------------\n",
      "\u001b[1mExplained Variance Score of OLS model is 0.11629975568399598\u001b[0m\n",
      "-------------------------------------------------------------------------------\n",
      "\u001b[1mExplained Variance Score of Ridge model is 0.11630025227692842\u001b[0m\n",
      "-------------------------------------------------------------------------------\n",
      "\u001b[1mExplained Variance Score of Lasso model is 0.1162997586604122\u001b[0m\n",
      "-------------------------------------------------------------------------------\n",
      "\u001b[1mExplained Variance Score of Bayesian model is 0.11738405597371027\u001b[0m\n",
      "-------------------------------------------------------------------------------\n",
      "\u001b[1mExplained Variance Score of ElasticNet is 0.11630248275931754\u001b[0m\n",
      "-------------------------------------------------------------------------------\n",
      "\u001b[1mR-SQUARED:\u001b[0m\n",
      "-------------------------------------------------------------------------------\n",
      "\u001b[1mR-Squared of OLS model is 0.11201379804436395\u001b[0m\n",
      "-------------------------------------------------------------------------------\n",
      "\u001b[1mR-Squared of Ridge model is 0.1120142613464904\u001b[0m\n",
      "-------------------------------------------------------------------------------\n",
      "\u001b[1mR-Squared of Lasso model is 0.11201380089235946\u001b[0m\n",
      "-------------------------------------------------------------------------------\n",
      "\u001b[1mR-Squared of Bayesian model is 0.11301634988564468\u001b[0m\n",
      "-------------------------------------------------------------------------------\n",
      "\u001b[1mR-Squared of ElasticNet is 0.11201634229895852\u001b[0m\n",
      "-------------------------------------------------------------------------------\n"
     ]
    }
   ],
   "source": [
    "# 1. OLS\n",
    "\n",
    "ols = LinearRegression()\n",
    "ols.fit(X_train, y_train)\n",
    "ols_yhat = ols.predict(X_test)\n",
    "\n",
    "# 2. Ridge\n",
    "\n",
    "ridge = Ridge(alpha = 0.5)\n",
    "ridge.fit(X_train, y_train)\n",
    "ridge_yhat = ridge.predict(X_test)\n",
    "\n",
    "# 3. Lasso\n",
    "\n",
    "lasso = Lasso(alpha = 0.01)\n",
    "lasso.fit(X_train, y_train)\n",
    "lasso_yhat = lasso.predict(X_test)\n",
    "\n",
    "# 4. Bayesian\n",
    "\n",
    "bayesian = BayesianRidge()\n",
    "bayesian.fit(X_train, y_train)\n",
    "bayesian_yhat = bayesian.predict(X_test)\n",
    "\n",
    "# 5. ElasticNet\n",
    "\n",
    "en = ElasticNet(alpha = 0.01)\n",
    "en.fit(X_train, y_train)\n",
    "en_yhat = en.predict(X_test)\n",
    "\n",
    "# EVALUATION\n",
    "\n",
    "# 1. Explained Variance Score\n",
    "\n",
    "print(cl('EXPLAINED VARIANCE SCORE:', attrs = ['bold']))\n",
    "\n",
    "print('-------------------------------------------------------------------------------')\n",
    "\n",
    "print(cl('Explained Variance Score of OLS model is {}'.format(evs(y_test, ols_yhat)), attrs = ['bold']))\n",
    "\n",
    "print('-------------------------------------------------------------------------------')\n",
    "\n",
    "print(cl('Explained Variance Score of Ridge model is {}'.format(evs(y_test, ridge_yhat)), attrs = ['bold']))\n",
    "\n",
    "print('-------------------------------------------------------------------------------')\n",
    "\n",
    "print(cl('Explained Variance Score of Lasso model is {}'.format(evs(y_test, lasso_yhat)), attrs = ['bold']))\n",
    "\n",
    "print('-------------------------------------------------------------------------------')\n",
    "\n",
    "print(cl('Explained Variance Score of Bayesian model is {}'.format(evs(y_test, bayesian_yhat)), attrs = ['bold']))\n",
    "\n",
    "print('-------------------------------------------------------------------------------')\n",
    "\n",
    "print(cl('Explained Variance Score of ElasticNet is {}'.format(evs(y_test, en_yhat)), attrs = ['bold']))\n",
    "\n",
    "print('-------------------------------------------------------------------------------')\n",
    "\n",
    "# 2. R-squared\n",
    "\n",
    "print(cl('R-SQUARED:', attrs = ['bold']))\n",
    "\n",
    "print('-------------------------------------------------------------------------------')\n",
    "\n",
    "print(cl('R-Squared of OLS model is {}'.format(r2(y_test, ols_yhat)), attrs = ['bold']))\n",
    "\n",
    "print('-------------------------------------------------------------------------------')\n",
    "\n",
    "print(cl('R-Squared of Ridge model is {}'.format(r2(y_test, ridge_yhat)), attrs = ['bold']))\n",
    "\n",
    "print('-------------------------------------------------------------------------------')\n",
    "\n",
    "print(cl('R-Squared of Lasso model is {}'.format(r2(y_test, lasso_yhat)), attrs = ['bold']))\n",
    "\n",
    "print('-------------------------------------------------------------------------------')\n",
    "\n",
    "print(cl('R-Squared of Bayesian model is {}'.format(r2(y_test, bayesian_yhat)), attrs = ['bold']))\n",
    "\n",
    "print('-------------------------------------------------------------------------------')\n",
    "\n",
    "print(cl('R-Squared of ElasticNet is {}'.format(r2(y_test, en_yhat)), attrs = ['bold']))\n",
    "\n",
    "print('-------------------------------------------------------------------------------')"
   ]
  },
  {
   "cell_type": "markdown",
   "metadata": {},
   "source": [
    "Saadut tulokset ovat edelleen huonoja, joten testataan vielä XGBoostin XGBRegressor-mallia"
   ]
  },
  {
   "cell_type": "code",
   "execution_count": 53,
   "metadata": {},
   "outputs": [
    {
     "name": "stdout",
     "output_type": "stream",
     "text": [
      "XGBRegressor\n",
      "Time taken to run: 0.1876 seconds\n",
      "\n",
      "Training RMSE: 30744.6335\n",
      "Testing RMSE: 56356.9679\n",
      "\n",
      "Training R2: 0.876\n",
      "Testing R2: 0.4754\n"
     ]
    },
    {
     "name": "stderr",
     "output_type": "stream",
     "text": [
      "/Users/senni/opt/anaconda3/lib/python3.8/site-packages/xgboost/data.py:112: UserWarning: Use subset (sliced data) of np.ndarray is not recommended because it will generate extra copies and increase memory consumption\n",
      "  warnings.warn(\n"
     ]
    }
   ],
   "source": [
    "#XGBoostin XGBRegressor\n",
    "\n",
    "time_start = time.time()\n",
    "\n",
    "xgb_regr = XGBRegressor()\n",
    "xgb_regr.fit(X_train, y_train )\n",
    "\n",
    "train_result = xgb_regr.predict(X_train)\n",
    "test_result = xgb_regr.predict(X_test)\n",
    "\n",
    "time_end = time.time()\n",
    "\n",
    "rmse_train = mean_squared_error(y_train, train_result, squared=False)\n",
    "r2_train = r2_score(y_train, train_result)\n",
    "\n",
    "rmse_test = mean_squared_error(y_test, test_result, squared=False)\n",
    "r2_test = r2_score(y_test, test_result)\n",
    "print('XGBRegressor')\n",
    "print(f\"Time taken to run: {round(time_end - time_start, 4)} seconds\")\n",
    "print(\"\\nTraining RMSE:\", round(rmse_train,4))\n",
    "print(\"Testing RMSE:\", round(rmse_test,4))\n",
    "print(\"\\nTraining R2:\", round(r2_train,4))\n",
    "print(\"Testing R2:\", round(r2_test,4))"
   ]
  },
  {
   "cell_type": "markdown",
   "metadata": {},
   "source": [
    "Regressiomalleista selkeästi paras tulos saatiin XGBRegression-algoritmilla. Valitaan se siis toimeenpano-osuuteen. Tarkastellaan vielä, mitä muuttujia XGBRegressor painotti analyysissä."
   ]
  },
  {
   "cell_type": "code",
   "execution_count": 54,
   "metadata": {},
   "outputs": [
    {
     "data": {
      "image/png": "[encoded data removed]",
      "text/plain": [
       "<Figure size 432x288 with 1 Axes>"
      ]
     },
     "metadata": {
      "needs_background": "light"
     },
     "output_type": "display_data"
    }
   ],
   "source": [
    "feat_importances = pd.Series(xgb_regr.feature_importances_, index=X_train.columns)\n",
    "feat_importances.nlargest().plot(kind='barh');"
   ]
  },
  {
   "cell_type": "markdown",
   "metadata": {},
   "source": [
    "Näyttää, että regressioalgoritmi painottaa kaikkia muuttujia melko tasaisesti, mutta eniten painoarvoa on kaupunginosalla."
   ]
  },
  {
   "cell_type": "markdown",
   "metadata": {},
   "source": [
    "## Toimeenpano\n",
    "\n",
    "Tehdään järjestelmä, joka ennustaa tietyn kokoisen ja tiettynä vuonna valmistuneen kaksion sijainnin ja myyntihinnan. Käytetään testisyötteenä 55 neliön kokoista asuntoa, joka on valmistunut vuonna 2019."
   ]
  },
  {
   "cell_type": "code",
   "execution_count": 55,
   "metadata": {},
   "outputs": [
    {
     "name": "stdout",
     "output_type": "stream",
     "text": [
      "Predicted area: Keskusta with certainty of 0.583333.\n",
      "\n",
      "Predicted price: 345588.1875€\n",
      "\n",
      "Keskusta info:\n"
     ]
    },
    {
     "data": {
      "text/html": [
       "<div>\n",
       "<style scoped>\n",
       "    .dataframe tbody tr th:only-of-type {\n",
       "        vertical-align: middle;\n",
       "    }\n",
       "\n",
       "    .dataframe tbody tr th {\n",
       "        vertical-align: top;\n",
       "    }\n",
       "\n",
       "    .dataframe thead th {\n",
       "        text-align: right;\n",
       "    }\n",
       "</style>\n",
       "<table border=\"1\" class=\"dataframe\">\n",
       "  <thead>\n",
       "    <tr style=\"text-align: right;\">\n",
       "      <th></th>\n",
       "      <th>hinta</th>\n",
       "      <th>koko</th>\n",
       "      <th>vuosi</th>\n",
       "      <th>m2-hinta</th>\n",
       "      <th>kaupunginosa_</th>\n",
       "    </tr>\n",
       "  </thead>\n",
       "  <tbody>\n",
       "    <tr>\n",
       "      <th>count</th>\n",
       "      <td>82.000000</td>\n",
       "      <td>82.000000</td>\n",
       "      <td>82.000000</td>\n",
       "      <td>82.000000</td>\n",
       "      <td>82.0</td>\n",
       "    </tr>\n",
       "    <tr>\n",
       "      <th>mean</th>\n",
       "      <td>320733.597561</td>\n",
       "      <td>52.134146</td>\n",
       "      <td>2007.573171</td>\n",
       "      <td>6395.867187</td>\n",
       "      <td>24.0</td>\n",
       "    </tr>\n",
       "    <tr>\n",
       "      <th>std</th>\n",
       "      <td>102245.530092</td>\n",
       "      <td>13.434121</td>\n",
       "      <td>27.598099</td>\n",
       "      <td>2137.436475</td>\n",
       "      <td>0.0</td>\n",
       "    </tr>\n",
       "    <tr>\n",
       "      <th>min</th>\n",
       "      <td>69000.000000</td>\n",
       "      <td>34.500000</td>\n",
       "      <td>1917.000000</td>\n",
       "      <td>1095.238095</td>\n",
       "      <td>24.0</td>\n",
       "    </tr>\n",
       "    <tr>\n",
       "      <th>25%</th>\n",
       "      <td>256650.000000</td>\n",
       "      <td>43.500000</td>\n",
       "      <td>2019.250000</td>\n",
       "      <td>4981.785346</td>\n",
       "      <td>24.0</td>\n",
       "    </tr>\n",
       "    <tr>\n",
       "      <th>50%</th>\n",
       "      <td>327190.000000</td>\n",
       "      <td>51.000000</td>\n",
       "      <td>2022.000000</td>\n",
       "      <td>6897.415039</td>\n",
       "      <td>24.0</td>\n",
       "    </tr>\n",
       "    <tr>\n",
       "      <th>75%</th>\n",
       "      <td>366780.000000</td>\n",
       "      <td>56.875000</td>\n",
       "      <td>2022.000000</td>\n",
       "      <td>7283.013816</td>\n",
       "      <td>24.0</td>\n",
       "    </tr>\n",
       "    <tr>\n",
       "      <th>max</th>\n",
       "      <td>629000.000000</td>\n",
       "      <td>130.000000</td>\n",
       "      <td>2022.000000</td>\n",
       "      <td>12296.296296</td>\n",
       "      <td>24.0</td>\n",
       "    </tr>\n",
       "  </tbody>\n",
       "</table>\n",
       "</div>"
      ],
      "text/plain": [
       "               hinta        koko        vuosi      m2-hinta  kaupunginosa_\n",
       "count      82.000000   82.000000    82.000000     82.000000           82.0\n",
       "mean   320733.597561   52.134146  2007.573171   6395.867187           24.0\n",
       "std    102245.530092   13.434121    27.598099   2137.436475            0.0\n",
       "min     69000.000000   34.500000  1917.000000   1095.238095           24.0\n",
       "25%    256650.000000   43.500000  2019.250000   4981.785346           24.0\n",
       "50%    327190.000000   51.000000  2022.000000   6897.415039           24.0\n",
       "75%    366780.000000   56.875000  2022.000000   7283.013816           24.0\n",
       "max    629000.000000  130.000000  2022.000000  12296.296296           24.0"
      ]
     },
     "execution_count": 55,
     "metadata": {},
     "output_type": "execute_result"
    }
   ],
   "source": [
    "# Testisyöte\n",
    "clf_test_values = {\n",
    "    'koko': [55],\n",
    "    'vuosi': [2019],    \n",
    "}\n",
    "\n",
    "clf_test_df = pd.DataFrame(clf_test_values)\n",
    "clf_result = rf_clf.predict(clf_test_df) # Alueen luokittelu\n",
    "prob = rf_clf.predict_proba(clf_test_df).max()\n",
    "\n",
    "print(\"Predicted area: {} with certainty of {:f}.\\n\".format(', '.join(clf_result), prob) )\n",
    "\n",
    "regr_test_df = clf_test_df\n",
    "regr_test_df['kaupunginosa_'] = df[df.kaupunginosa==clf_result[0]].kaupunginosa_.values[0]\n",
    "regr_result = xgb_regr.predict(regr_test_df) # Hinnan arvio\n",
    "print(f'Predicted price: {round(regr_result[0],2)}€')\n",
    "\n",
    "print(f\"\\n{', '.join(clf_result)} info:\")\n",
    "df[df.kaupunginosa == clf_result[0]].describe()"
   ]
  },
  {
   "cell_type": "markdown",
   "metadata": {},
   "source": [
    "Malli ennustaa annetuilla lähtöarvoilla asunnon sijaitsevan Keskustassa 58 % todennäköisyydellä ja asunnon myyntihinnaksi n. 345588 €. Hinta vaikuttaa Keskustan alueen kaksioille järkevältä, hieman mediaanihintaa korkeammalta. Kaupunginosalle laskettu todennäköisyys ei ole kovinkaan suuri, mutta käytetyllä datamäärällä kovinkaan paljon korkeampiin todennäköisyyksiin ei päästy muillakaan testisyötteillä. Jos mallia haluaisi tarkentaa tulisi ensimmäisenä kerätä lisää dataa."
   ]
  }
 ],
 "metadata": {
  "kernelspec": {
   "display_name": "Python 3",
   "language": "python",
   "name": "python3"
  },
  "language_info": {
   "codemirror_mode": {
    "name": "ipython",
    "version": 3
   },
   "file_extension": ".py",
   "mimetype": "text/x-python",
   "name": "python",
   "nbconvert_exporter": "python",
   "pygments_lexer": "ipython3",
   "version": "3.8.5"
  }
 },
 "nbformat": 4,
 "nbformat_minor": 4
}
